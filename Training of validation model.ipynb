{
 "cells": [
  {
   "cell_type": "markdown",
   "metadata": {
    "pycharm": {
     "name": "#%%\n"
    }
   },
   "source": [
    "# GradientBoostingClassifier for 3 variant validation (27 parameters)"
   ]
  },
  {
   "cell_type": "markdown",
   "metadata": {},
   "source": [
    "### Обучение модели валидации задач по Bad/Good/Agood"
   ]
  },
  {
   "cell_type": "code",
   "execution_count": 1,
   "metadata": {
    "pycharm": {
     "name": "#%%\n"
    }
   },
   "outputs": [],
   "source": [
    "import pandas as pd\n",
    "from sklearn.ensemble import GradientBoostingClassifier\n",
    "from sklearn.model_selection import train_test_split\n",
    "import matplotlib.pyplot as plt\n",
    "import json\n",
    "import numpy as np\n",
    "from definitions import ROOT_DIR"
   ]
  },
  {
   "cell_type": "code",
   "execution_count": 2,
   "metadata": {},
   "outputs": [],
   "source": [
    "with open(ROOT_DIR + \"/Data/training_validation_dataset.json\", \"r\") as n:\n",
    "            n = json.load(n)"
   ]
  },
  {
   "cell_type": "code",
   "execution_count": 3,
   "metadata": {},
   "outputs": [],
   "source": [
    "data = pd.Series(n['data'])"
   ]
  },
  {
   "cell_type": "code",
   "execution_count": 4,
   "metadata": {},
   "outputs": [],
   "source": [
    "target = pd.Series(n['target'])"
   ]
  },
  {
   "cell_type": "code",
   "execution_count": 5,
   "metadata": {},
   "outputs": [
    {
     "data": {
      "text/plain": [
       "((10691,), (10691,))"
      ]
     },
     "execution_count": 5,
     "metadata": {},
     "output_type": "execute_result"
    }
   ],
   "source": [
    "data.shape, target.shape"
   ]
  },
  {
   "cell_type": "code",
   "execution_count": 6,
   "metadata": {},
   "outputs": [],
   "source": [
    "data = np.asarray(n['data'], dtype=np.int32)\n",
    "target = np.asarray(n['target'], dtype=np.int32)"
   ]
  },
  {
   "cell_type": "code",
   "execution_count": 7,
   "metadata": {},
   "outputs": [
    {
     "data": {
      "text/plain": [
       "((10691, 27), (10691,))"
      ]
     },
     "execution_count": 7,
     "metadata": {},
     "output_type": "execute_result"
    }
   ],
   "source": [
    "data.shape, target.shape"
   ]
  },
  {
   "cell_type": "code",
   "execution_count": 8,
   "metadata": {},
   "outputs": [],
   "source": [
    "token_name_list = [\n",
    "    'ADJ', \n",
    "    'ADP',\n",
    "    'ADV',\n",
    "    'AUX',\n",
    "    'CCONJ',\n",
    "    'DET',\n",
    "    'INTJ',\n",
    "    'NOUN',\n",
    "    'NUM',\n",
    "    'PART',\n",
    "    'PRON',\n",
    "    'PROPN',\n",
    "    'PUNCT',\n",
    "    'SCONJ',\n",
    "    'SYM',\n",
    "    'VERB',\n",
    "    'X',\n",
    "    'all_to_num',\n",
    "    'exist_question',\n",
    "    'negative_numbers',\n",
    "    'more_hundred',\n",
    "    'exist_noun_in',\n",
    "    'question_in_end',\n",
    "    'question_not_end',\n",
    "    'group_calculate',\n",
    "    'in_bad_list',\n",
    "    'one_digit',\n",
    "]\n",
    "n['feature_names'] = token_name_list"
   ]
  },
  {
   "cell_type": "code",
   "execution_count": 9,
   "metadata": {},
   "outputs": [],
   "source": [
    "def plot_feature_importances(model):\n",
    "    n_features = data.shape[1]\n",
    "    plt.barh(range(n_features), model.feature_importances_, align='center')\n",
    "    plt.yticks(np.arange(n_features), n['feature_names'])\n",
    "    plt.xlabel(\"Feature importance\")\n",
    "    plt.ylabel(\"Feature\")"
   ]
  },
  {
   "cell_type": "code",
   "execution_count": 10,
   "metadata": {},
   "outputs": [],
   "source": [
    "from sklearn.ensemble import GradientBoostingClassifier\n",
    "from sklearn.model_selection import train_test_split\n",
    "import matplotlib.pyplot as plt"
   ]
  },
  {
   "cell_type": "markdown",
   "metadata": {},
   "source": [
    "## Calculate of default model"
   ]
  },
  {
   "cell_type": "code",
   "execution_count": 11,
   "metadata": {
    "scrolled": false
   },
   "outputs": [
    {
     "name": "stdout",
     "output_type": "stream",
     "text": [
      "Correctness on the training set: 0.711\n",
      "Correctness on a test set: 0.676\n"
     ]
    }
   ],
   "source": [
    "X_train, X_test, y_train, y_test = train_test_split(data, target, random_state=0)\n",
    "gbrt = GradientBoostingClassifier(random_state=0)\n",
    "gbrt.fit(X_train, y_train)\n",
    "print(\"Correctness on the training set: {:.3f}\".format(gbrt.score(X_train, y_train)))\n",
    "print(\"Correctness on a test set: {:.3f}\".format(gbrt.score(X_test, y_test)))"
   ]
  },
  {
   "cell_type": "markdown",
   "metadata": {},
   "source": [
    "#### Визуализация важности признаков"
   ]
  },
  {
   "cell_type": "code",
   "execution_count": 12,
   "metadata": {},
   "outputs": [
    {
     "data": {
      "image/png": "[encoded data removed]",
      "text/plain": [
       "<Figure size 432x288 with 1 Axes>"
      ]
     },
     "metadata": {
      "needs_background": "light"
     },
     "output_type": "display_data"
    }
   ],
   "source": [
    "gbrt = GradientBoostingClassifier(random_state=0)\n",
    "gbrt.fit(X_train, y_train)\n",
    "plot_feature_importances(gbrt)"
   ]
  },
  {
   "cell_type": "markdown",
   "metadata": {},
   "source": [
    "### Confusion matrix"
   ]
  },
  {
   "cell_type": "code",
   "execution_count": 13,
   "metadata": {},
   "outputs": [
    {
     "name": "stdout",
     "output_type": "stream",
     "text": [
      "Confusion matrix:\n",
      "[[ 319  267   48]\n",
      " [ 116 1304  106]\n",
      " [  81  248  184]]\n"
     ]
    }
   ],
   "source": [
    "from sklearn.metrics import confusion_matrix\n",
    "prediction = gbrt.predict(X_test)\n",
    "confusion = confusion_matrix(y_test, prediction)\n",
    "print(\"Confusion matrix:\\n{}\".format(confusion))"
   ]
  },
  {
   "cell_type": "code",
   "execution_count": 14,
   "metadata": {},
   "outputs": [
    {
     "name": "stdout",
     "output_type": "stream",
     "text": [
      "Confusion matrix\n",
      "[[0.50315457 0.42113565 0.07570978]\n",
      " [0.07601573 0.85452163 0.06946265]\n",
      " [0.15789474 0.4834308  0.35867446]]\n"
     ]
    },
    {
     "data": {
      "image/png": "[encoded data removed]",
      "text/plain": [
       "<Figure size 432x288 with 2 Axes>"
      ]
     },
     "metadata": {
      "needs_background": "light"
     },
     "output_type": "display_data"
    }
   ],
   "source": [
    "from sklearn.metrics import plot_confusion_matrix\n",
    "class_names = ('bad', 'good', 'agood')\n",
    "title = \"Confusion matrix\"\n",
    "disp = plot_confusion_matrix(gbrt, X_test, y_test,\n",
    "                                 display_labels=class_names,\n",
    "                                 cmap=plt.cm.Blues,\n",
    "                                 normalize='true'\n",
    "                            )\n",
    "disp.ax_.set_title(title)\n",
    "print(title)\n",
    "print(disp.confusion_matrix)"
   ]
  },
  {
   "cell_type": "markdown",
   "metadata": {},
   "source": [
    "## Обучение с вариацией по двум параметрам: max_features, max_depth"
   ]
  },
  {
   "cell_type": "code",
   "execution_count": 15,
   "metadata": {
    "scrolled": true
   },
   "outputs": [
    {
     "name": "stdout",
     "output_type": "stream",
     "text": [
      "max_features=1 Correctness on the training set: 0.610\n",
      "max_depth=1 Correctness on a test set: 0.607\n",
      "\n",
      "max_features=2 Correctness on the training set: 0.626\n",
      "max_depth=1 Correctness on a test set: 0.621\n",
      "\n",
      "max_features=3 Correctness on the training set: 0.633\n",
      "max_depth=1 Correctness on a test set: 0.629\n",
      "\n",
      "max_features=4 Correctness on the training set: 0.640\n",
      "max_depth=1 Correctness on a test set: 0.632\n",
      "\n",
      "max_features=5 Correctness on the training set: 0.644\n",
      "max_depth=1 Correctness on a test set: 0.634\n",
      "\n",
      "max_features=7 Correctness on the training set: 0.646\n",
      "max_depth=1 Correctness on a test set: 0.639\n",
      "\n",
      "max_features=1 Correctness on the training set: 0.655\n",
      "max_depth=2 Correctness on a test set: 0.641\n",
      "\n",
      "max_features=2 Correctness on the training set: 0.667\n",
      "max_depth=2 Correctness on a test set: 0.658\n",
      "\n",
      "max_features=3 Correctness on the training set: 0.676\n",
      "max_depth=2 Correctness on a test set: 0.661\n",
      "\n",
      "max_features=5 Correctness on the training set: 0.680\n",
      "max_depth=2 Correctness on a test set: 0.668\n",
      "\n",
      "max_features=8 Correctness on the training set: 0.680\n",
      "max_depth=2 Correctness on a test set: 0.669\n",
      "\n",
      "max_features=2 Correctness on the training set: 0.693\n",
      "max_depth=3 Correctness on a test set: 0.676\n",
      "\n",
      "max_features=3 Correctness on the training set: 0.698\n",
      "max_depth=3 Correctness on a test set: 0.678\n",
      "\n",
      "max_features=5 Correctness on the training set: 0.702\n",
      "max_depth=3 Correctness on a test set: 0.682\n",
      "\n",
      "max_features=6 Correctness on the training set: 0.705\n",
      "max_depth=3 Correctness on a test set: 0.686\n",
      "\n",
      "max_features=3 Correctness on the training set: 0.722\n",
      "max_depth=4 Correctness on a test set: 0.688\n",
      "\n",
      "max_features=4 Correctness on the training set: 0.723\n",
      "max_depth=4 Correctness on a test set: 0.689\n",
      "\n",
      "max_features=5 Correctness on the training set: 0.724\n",
      "max_depth=4 Correctness on a test set: 0.691\n",
      "\n",
      "max_features=6 Correctness on the training set: 0.730\n",
      "max_depth=4 Correctness on a test set: 0.692\n",
      "\n",
      "max_features=15 Correctness on the training set: 0.741\n",
      "max_depth=4 Correctness on a test set: 0.697\n",
      "\n",
      "max_features=7 Correctness on the training set: 0.769\n",
      "max_depth=5 Correctness on a test set: 0.698\n",
      "\n",
      "max_features=11 Correctness on the training set: 0.776\n",
      "max_depth=5 Correctness on a test set: 0.701\n",
      "\n",
      "max_features=4 Correctness on the training set: 0.800\n",
      "max_depth=6 Correctness on a test set: 0.703\n",
      "\n",
      "max_features=2 Correctness on the training set: 0.818\n",
      "max_depth=7 Correctness on a test set: 0.707\n",
      "\n"
     ]
    },
    {
     "ename": "KeyboardInterrupt",
     "evalue": "",
     "output_type": "error",
     "traceback": [
      "\u001b[0;31m---------------------------------------------------------------------------\u001b[0m",
      "\u001b[0;31mKeyboardInterrupt\u001b[0m                         Traceback (most recent call last)",
      "\u001b[0;32m/var/folders/bz/nrb_q3m57b7bb8w8vft4vh240000gn/T/ipykernel_4715/1212147602.py\u001b[0m in \u001b[0;36m<module>\u001b[0;34m\u001b[0m\n\u001b[1;32m      5\u001b[0m     \u001b[0;32mfor\u001b[0m \u001b[0mj\u001b[0m \u001b[0;32min\u001b[0m \u001b[0mrange\u001b[0m\u001b[0;34m(\u001b[0m\u001b[0;36m1\u001b[0m\u001b[0;34m,\u001b[0m\u001b[0;36m26\u001b[0m\u001b[0;34m)\u001b[0m\u001b[0;34m:\u001b[0m\u001b[0;34m\u001b[0m\u001b[0;34m\u001b[0m\u001b[0m\n\u001b[1;32m      6\u001b[0m         \u001b[0mgbrt\u001b[0m \u001b[0;34m=\u001b[0m \u001b[0mGradientBoostingClassifier\u001b[0m\u001b[0;34m(\u001b[0m\u001b[0mmax_depth\u001b[0m\u001b[0;34m=\u001b[0m\u001b[0mi\u001b[0m\u001b[0;34m,\u001b[0m \u001b[0mmax_features\u001b[0m\u001b[0;34m=\u001b[0m\u001b[0mj\u001b[0m\u001b[0;34m,\u001b[0m \u001b[0mrandom_state\u001b[0m\u001b[0;34m=\u001b[0m\u001b[0;36m0\u001b[0m\u001b[0;34m)\u001b[0m\u001b[0;34m\u001b[0m\u001b[0;34m\u001b[0m\u001b[0m\n\u001b[0;32m----> 7\u001b[0;31m         \u001b[0mgbrt\u001b[0m\u001b[0;34m.\u001b[0m\u001b[0mfit\u001b[0m\u001b[0;34m(\u001b[0m\u001b[0mX_train\u001b[0m\u001b[0;34m,\u001b[0m \u001b[0my_train\u001b[0m\u001b[0;34m)\u001b[0m\u001b[0;34m\u001b[0m\u001b[0;34m\u001b[0m\u001b[0m\n\u001b[0m\u001b[1;32m      8\u001b[0m         \u001b[0;32mif\u001b[0m \u001b[0mmax_score\u001b[0m \u001b[0;34m<\u001b[0m \u001b[0mgbrt\u001b[0m\u001b[0;34m.\u001b[0m\u001b[0mscore\u001b[0m\u001b[0;34m(\u001b[0m\u001b[0mX_test\u001b[0m\u001b[0;34m,\u001b[0m \u001b[0my_test\u001b[0m\u001b[0;34m)\u001b[0m\u001b[0;34m:\u001b[0m\u001b[0;34m\u001b[0m\u001b[0;34m\u001b[0m\u001b[0m\n\u001b[1;32m      9\u001b[0m             \u001b[0mprint\u001b[0m\u001b[0;34m(\u001b[0m\u001b[0;34mf\"max_features={j}\"\u001b[0m\u001b[0;34m,\u001b[0m \u001b[0;34m\"Correctness on the training set: {:.3f}\"\u001b[0m\u001b[0;34m.\u001b[0m\u001b[0mformat\u001b[0m\u001b[0;34m(\u001b[0m\u001b[0mgbrt\u001b[0m\u001b[0;34m.\u001b[0m\u001b[0mscore\u001b[0m\u001b[0;34m(\u001b[0m\u001b[0mX_train\u001b[0m\u001b[0;34m,\u001b[0m \u001b[0my_train\u001b[0m\u001b[0;34m)\u001b[0m\u001b[0;34m)\u001b[0m\u001b[0;34m)\u001b[0m\u001b[0;34m\u001b[0m\u001b[0;34m\u001b[0m\u001b[0m\n",
      "\u001b[0;32m~/AI-training-task-classification-test/venv/lib/python3.9/site-packages/sklearn/ensemble/_gb.py\u001b[0m in \u001b[0;36mfit\u001b[0;34m(self, X, y, sample_weight, monitor)\u001b[0m\n\u001b[1;32m    502\u001b[0m \u001b[0;34m\u001b[0m\u001b[0m\n\u001b[1;32m    503\u001b[0m         \u001b[0;31m# fit the boosting stages\u001b[0m\u001b[0;34m\u001b[0m\u001b[0;34m\u001b[0m\u001b[0;34m\u001b[0m\u001b[0m\n\u001b[0;32m--> 504\u001b[0;31m         n_stages = self._fit_stages(\n\u001b[0m\u001b[1;32m    505\u001b[0m             \u001b[0mX\u001b[0m\u001b[0;34m,\u001b[0m \u001b[0my\u001b[0m\u001b[0;34m,\u001b[0m \u001b[0mraw_predictions\u001b[0m\u001b[0;34m,\u001b[0m \u001b[0msample_weight\u001b[0m\u001b[0;34m,\u001b[0m \u001b[0mself\u001b[0m\u001b[0;34m.\u001b[0m\u001b[0m_rng\u001b[0m\u001b[0;34m,\u001b[0m \u001b[0mX_val\u001b[0m\u001b[0;34m,\u001b[0m \u001b[0my_val\u001b[0m\u001b[0;34m,\u001b[0m\u001b[0;34m\u001b[0m\u001b[0;34m\u001b[0m\u001b[0m\n\u001b[1;32m    506\u001b[0m             sample_weight_val, begin_at_stage, monitor)\n",
      "\u001b[0;32m~/AI-training-task-classification-test/venv/lib/python3.9/site-packages/sklearn/ensemble/_gb.py\u001b[0m in \u001b[0;36m_fit_stages\u001b[0;34m(self, X, y, raw_predictions, sample_weight, random_state, X_val, y_val, sample_weight_val, begin_at_stage, monitor)\u001b[0m\n\u001b[1;32m    559\u001b[0m \u001b[0;34m\u001b[0m\u001b[0m\n\u001b[1;32m    560\u001b[0m             \u001b[0;31m# fit next stage of trees\u001b[0m\u001b[0;34m\u001b[0m\u001b[0;34m\u001b[0m\u001b[0;34m\u001b[0m\u001b[0m\n\u001b[0;32m--> 561\u001b[0;31m             raw_predictions = self._fit_stage(\n\u001b[0m\u001b[1;32m    562\u001b[0m                 \u001b[0mi\u001b[0m\u001b[0;34m,\u001b[0m \u001b[0mX\u001b[0m\u001b[0;34m,\u001b[0m \u001b[0my\u001b[0m\u001b[0;34m,\u001b[0m \u001b[0mraw_predictions\u001b[0m\u001b[0;34m,\u001b[0m \u001b[0msample_weight\u001b[0m\u001b[0;34m,\u001b[0m \u001b[0msample_mask\u001b[0m\u001b[0;34m,\u001b[0m\u001b[0;34m\u001b[0m\u001b[0;34m\u001b[0m\u001b[0m\n\u001b[1;32m    563\u001b[0m                 random_state, X_csc, X_csr)\n",
      "\u001b[0;32m~/AI-training-task-classification-test/venv/lib/python3.9/site-packages/sklearn/ensemble/_gb.py\u001b[0m in \u001b[0;36m_fit_stage\u001b[0;34m(self, i, X, y, raw_predictions, sample_weight, sample_mask, random_state, X_csc, X_csr)\u001b[0m\n\u001b[1;32m    216\u001b[0m \u001b[0;34m\u001b[0m\u001b[0m\n\u001b[1;32m    217\u001b[0m             \u001b[0;31m# update tree leaves\u001b[0m\u001b[0;34m\u001b[0m\u001b[0;34m\u001b[0m\u001b[0;34m\u001b[0m\u001b[0m\n\u001b[0;32m--> 218\u001b[0;31m             loss.update_terminal_regions(\n\u001b[0m\u001b[1;32m    219\u001b[0m                 \u001b[0mtree\u001b[0m\u001b[0;34m.\u001b[0m\u001b[0mtree_\u001b[0m\u001b[0;34m,\u001b[0m \u001b[0mX\u001b[0m\u001b[0;34m,\u001b[0m \u001b[0my\u001b[0m\u001b[0;34m,\u001b[0m \u001b[0mresidual\u001b[0m\u001b[0;34m,\u001b[0m \u001b[0mraw_predictions\u001b[0m\u001b[0;34m,\u001b[0m \u001b[0msample_weight\u001b[0m\u001b[0;34m,\u001b[0m\u001b[0;34m\u001b[0m\u001b[0;34m\u001b[0m\u001b[0m\n\u001b[1;32m    220\u001b[0m                 sample_mask, learning_rate=self.learning_rate, k=k)\n",
      "\u001b[0;32m~/AI-training-task-classification-test/venv/lib/python3.9/site-packages/sklearn/ensemble/_gb_losses.py\u001b[0m in \u001b[0;36mupdate_terminal_regions\u001b[0;34m(self, tree, X, y, residual, raw_predictions, sample_weight, sample_mask, learning_rate, k)\u001b[0m\n\u001b[1;32m    110\u001b[0m         \u001b[0;31m# update each leaf (= perform line search)\u001b[0m\u001b[0;34m\u001b[0m\u001b[0;34m\u001b[0m\u001b[0;34m\u001b[0m\u001b[0m\n\u001b[1;32m    111\u001b[0m         \u001b[0;32mfor\u001b[0m \u001b[0mleaf\u001b[0m \u001b[0;32min\u001b[0m \u001b[0mnp\u001b[0m\u001b[0;34m.\u001b[0m\u001b[0mwhere\u001b[0m\u001b[0;34m(\u001b[0m\u001b[0mtree\u001b[0m\u001b[0;34m.\u001b[0m\u001b[0mchildren_left\u001b[0m \u001b[0;34m==\u001b[0m \u001b[0mTREE_LEAF\u001b[0m\u001b[0;34m)\u001b[0m\u001b[0;34m[\u001b[0m\u001b[0;36m0\u001b[0m\u001b[0;34m]\u001b[0m\u001b[0;34m:\u001b[0m\u001b[0;34m\u001b[0m\u001b[0;34m\u001b[0m\u001b[0m\n\u001b[0;32m--> 112\u001b[0;31m             self._update_terminal_region(tree, masked_terminal_regions,\n\u001b[0m\u001b[1;32m    113\u001b[0m                                          \u001b[0mleaf\u001b[0m\u001b[0;34m,\u001b[0m \u001b[0mX\u001b[0m\u001b[0;34m,\u001b[0m \u001b[0my\u001b[0m\u001b[0;34m,\u001b[0m \u001b[0mresidual\u001b[0m\u001b[0;34m,\u001b[0m\u001b[0;34m\u001b[0m\u001b[0;34m\u001b[0m\u001b[0m\n\u001b[1;32m    114\u001b[0m                                          raw_predictions[:, k], sample_weight)\n",
      "\u001b[0;32m~/AI-training-task-classification-test/venv/lib/python3.9/site-packages/sklearn/ensemble/_gb_losses.py\u001b[0m in \u001b[0;36m_update_terminal_region\u001b[0;34m(self, tree, terminal_regions, leaf, X, y, residual, raw_predictions, sample_weight)\u001b[0m\n\u001b[1;32m    731\u001b[0m         \u001b[0mnumerator\u001b[0m \u001b[0;34m*=\u001b[0m \u001b[0;34m(\u001b[0m\u001b[0mself\u001b[0m\u001b[0;34m.\u001b[0m\u001b[0mK\u001b[0m \u001b[0;34m-\u001b[0m \u001b[0;36m1\u001b[0m\u001b[0;34m)\u001b[0m \u001b[0;34m/\u001b[0m \u001b[0mself\u001b[0m\u001b[0;34m.\u001b[0m\u001b[0mK\u001b[0m\u001b[0;34m\u001b[0m\u001b[0;34m\u001b[0m\u001b[0m\n\u001b[1;32m    732\u001b[0m \u001b[0;34m\u001b[0m\u001b[0m\n\u001b[0;32m--> 733\u001b[0;31m         denominator = np.sum(sample_weight * (y - residual) *\n\u001b[0m\u001b[1;32m    734\u001b[0m                              (1 - y + residual))\n\u001b[1;32m    735\u001b[0m \u001b[0;34m\u001b[0m\u001b[0m\n",
      "\u001b[0;32m<__array_function__ internals>\u001b[0m in \u001b[0;36msum\u001b[0;34m(*args, **kwargs)\u001b[0m\n",
      "\u001b[0;32m~/AI-training-task-classification-test/venv/lib/python3.9/site-packages/numpy/core/fromnumeric.py\u001b[0m in \u001b[0;36msum\u001b[0;34m(a, axis, dtype, out, keepdims, initial, where)\u001b[0m\n\u001b[1;32m   2257\u001b[0m         \u001b[0;32mreturn\u001b[0m \u001b[0mres\u001b[0m\u001b[0;34m\u001b[0m\u001b[0;34m\u001b[0m\u001b[0m\n\u001b[1;32m   2258\u001b[0m \u001b[0;34m\u001b[0m\u001b[0m\n\u001b[0;32m-> 2259\u001b[0;31m     return _wrapreduction(a, np.add, 'sum', axis, dtype, out, keepdims=keepdims,\n\u001b[0m\u001b[1;32m   2260\u001b[0m                           initial=initial, where=where)\n\u001b[1;32m   2261\u001b[0m \u001b[0;34m\u001b[0m\u001b[0m\n",
      "\u001b[0;32m~/AI-training-task-classification-test/venv/lib/python3.9/site-packages/numpy/core/fromnumeric.py\u001b[0m in \u001b[0;36m_wrapreduction\u001b[0;34m(obj, ufunc, method, axis, dtype, out, **kwargs)\u001b[0m\n\u001b[1;32m     68\u001b[0m \u001b[0;34m\u001b[0m\u001b[0m\n\u001b[1;32m     69\u001b[0m \u001b[0;32mdef\u001b[0m \u001b[0m_wrapreduction\u001b[0m\u001b[0;34m(\u001b[0m\u001b[0mobj\u001b[0m\u001b[0;34m,\u001b[0m \u001b[0mufunc\u001b[0m\u001b[0;34m,\u001b[0m \u001b[0mmethod\u001b[0m\u001b[0;34m,\u001b[0m \u001b[0maxis\u001b[0m\u001b[0;34m,\u001b[0m \u001b[0mdtype\u001b[0m\u001b[0;34m,\u001b[0m \u001b[0mout\u001b[0m\u001b[0;34m,\u001b[0m \u001b[0;34m**\u001b[0m\u001b[0mkwargs\u001b[0m\u001b[0;34m)\u001b[0m\u001b[0;34m:\u001b[0m\u001b[0;34m\u001b[0m\u001b[0;34m\u001b[0m\u001b[0m\n\u001b[0;32m---> 70\u001b[0;31m     passkwargs = {k: v for k, v in kwargs.items()\n\u001b[0m\u001b[1;32m     71\u001b[0m                   if v is not np._NoValue}\n\u001b[1;32m     72\u001b[0m \u001b[0;34m\u001b[0m\u001b[0m\n",
      "\u001b[0;31mKeyboardInterrupt\u001b[0m: "
     ]
    }
   ],
   "source": [
    "X_train, X_test, y_train, y_test = train_test_split(\n",
    "data, target, stratify=target, random_state=42)\n",
    "max_score = 0\n",
    "for i in range(1,30):\n",
    "    for j in range(1,27):\n",
    "        gbrt = GradientBoostingClassifier(max_depth=i, max_features=j, random_state=0)\n",
    "        gbrt.fit(X_train, y_train)\n",
    "        if max_score < gbrt.score(X_test, y_test):\n",
    "            print(f\"max_features={j}\", \"Correctness on the training set: {:.3f}\".format(gbrt.score(X_train, y_train)))\n",
    "            print(f\"max_depth={i}\", \"Correctness on a test set: {:.3f}\".format(gbrt.score(X_test, y_test)))\n",
    "            print()\n",
    "            max_score = gbrt.score(X_test, y_test)"
   ]
  },
  {
   "cell_type": "markdown",
   "metadata": {},
   "source": [
    "### max_features=2, max_depth=7"
   ]
  },
  {
   "cell_type": "code",
   "execution_count": 16,
   "metadata": {
    "scrolled": false
   },
   "outputs": [
    {
     "name": "stdout",
     "output_type": "stream",
     "text": [
      "Correctness on the training set: 0.818\n",
      "Correctness on a test set: 0.707\n"
     ]
    },
    {
     "data": {
      "image/png": "[encoded data removed]",
      "text/plain": [
       "<Figure size 432x288 with 1 Axes>"
      ]
     },
     "metadata": {
      "needs_background": "light"
     },
     "output_type": "display_data"
    }
   ],
   "source": [
    "X_train, X_test, y_train, y_test = train_test_split(\n",
    "data, target, stratify=target, random_state=42)\n",
    "gbrt = GradientBoostingClassifier(max_features=2, max_depth=7, random_state=0)\n",
    "gbrt.fit(X_train, y_train)\n",
    "print(\"Correctness on the training set: {:.3f}\".format(gbrt.score(X_train, y_train)))\n",
    "print(\"Correctness on a test set: {:.3f}\".format(gbrt.score(X_test, y_test)))\n",
    "plot_feature_importances(gbrt)"
   ]
  },
  {
   "cell_type": "code",
   "execution_count": 17,
   "metadata": {
    "scrolled": true
   },
   "outputs": [
    {
     "data": {
      "text/plain": [
       "(2673,)"
      ]
     },
     "execution_count": 17,
     "metadata": {},
     "output_type": "execute_result"
    }
   ],
   "source": [
    "y_test.shape"
   ]
  },
  {
   "cell_type": "code",
   "execution_count": 18,
   "metadata": {},
   "outputs": [],
   "source": [
    "unique, counts = np.unique(y_test, return_counts=True)"
   ]
  },
  {
   "cell_type": "code",
   "execution_count": 19,
   "metadata": {},
   "outputs": [
    {
     "data": {
      "text/plain": [
       "array([[   0,  650],\n",
       "       [   1, 1514],\n",
       "       [   2,  509]])"
      ]
     },
     "execution_count": 19,
     "metadata": {},
     "output_type": "execute_result"
    }
   ],
   "source": [
    "np.asarray((unique, counts)).T"
   ]
  },
  {
   "cell_type": "markdown",
   "metadata": {},
   "source": [
    "### Confusion matrix"
   ]
  },
  {
   "cell_type": "code",
   "execution_count": 20,
   "metadata": {
    "scrolled": false
   },
   "outputs": [
    {
     "name": "stdout",
     "output_type": "stream",
     "text": [
      "Confusion matrix:\n",
      "[[ 353  245   52]\n",
      " [  89 1348   77]\n",
      " [  66  253  190]]\n"
     ]
    }
   ],
   "source": [
    "from sklearn.metrics import confusion_matrix\n",
    "prediction = gbrt.predict(X_test)\n",
    "confusion = confusion_matrix(y_test, prediction)\n",
    "print(\"Confusion matrix:\\n{}\".format(confusion))"
   ]
  },
  {
   "cell_type": "code",
   "execution_count": 21,
   "metadata": {
    "scrolled": true
   },
   "outputs": [
    {
     "name": "stdout",
     "output_type": "stream",
     "text": [
      "Confusion matrix\n",
      "[[0.54307692 0.37692308 0.08      ]\n",
      " [0.05878468 0.89035667 0.05085865]\n",
      " [0.12966601 0.49705305 0.37328094]]\n"
     ]
    },
    {
     "data": {
      "image/png": "[encoded data removed]",
      "text/plain": [
       "<Figure size 432x288 with 2 Axes>"
      ]
     },
     "metadata": {
      "needs_background": "light"
     },
     "output_type": "display_data"
    }
   ],
   "source": [
    "from sklearn.metrics import plot_confusion_matrix\n",
    "class_names = ('bad', 'good', 'agood')\n",
    "title = \"Confusion matrix\"\n",
    "disp = plot_confusion_matrix(gbrt, X_test, y_test,\n",
    "                                 display_labels=class_names,\n",
    "                                 cmap=plt.cm.Blues,\n",
    "                                 normalize='true'\n",
    "                            )\n",
    "disp.ax_.set_title(title)\n",
    "print(title)\n",
    "print(disp.confusion_matrix)"
   ]
  },
  {
   "cell_type": "markdown",
   "metadata": {},
   "source": [
    "## Обучение с вариацией по трем параметрам: max_depth, max_features, n_estimators"
   ]
  },
  {
   "cell_type": "code",
   "execution_count": null,
   "metadata": {
    "scrolled": true
   },
   "outputs": [
    {
     "name": "stdout",
     "output_type": "stream",
     "text": [
      "max_depth=7\n",
      "max_features=1\n",
      "7, 1, 1\n",
      "Correctness on the training set: 0.567\n",
      "Correctness on a test set: 0.566\n",
      "\n",
      "7, 1, 4\n",
      "Correctness on the training set: 0.570\n",
      "Correctness on a test set: 0.569\n",
      "\n",
      "7, 1, 5\n",
      "Correctness on the training set: 0.584\n",
      "Correctness on a test set: 0.579\n",
      "\n",
      "7, 1, 6\n",
      "Correctness on the training set: 0.599\n",
      "Correctness on a test set: 0.590\n",
      "\n",
      "7, 1, 7\n",
      "Correctness on the training set: 0.610\n",
      "Correctness on a test set: 0.600\n",
      "\n",
      "7, 1, 8\n",
      "Correctness on the training set: 0.619\n",
      "Correctness on a test set: 0.605\n",
      "\n",
      "7, 1, 9\n",
      "Correctness on the training set: 0.629\n",
      "Correctness on a test set: 0.614\n",
      "\n",
      "7, 1, 10\n",
      "Correctness on the training set: 0.636\n",
      "Correctness on a test set: 0.621\n",
      "\n",
      "7, 1, 11\n",
      "Correctness on the training set: 0.641\n",
      "Correctness on a test set: 0.626\n",
      "\n",
      "7, 1, 12\n",
      "Correctness on the training set: 0.647\n",
      "Correctness on a test set: 0.632\n",
      "\n",
      "7, 1, 14\n",
      "Correctness on the training set: 0.661\n",
      "Correctness on a test set: 0.636\n",
      "\n",
      "7, 1, 15\n",
      "Correctness on the training set: 0.667\n",
      "Correctness on a test set: 0.640\n",
      "\n",
      "7, 1, 16\n",
      "Correctness on the training set: 0.672\n",
      "Correctness on a test set: 0.645\n",
      "\n",
      "7, 1, 17\n",
      "Correctness on the training set: 0.678\n",
      "Correctness on a test set: 0.648\n",
      "\n",
      "7, 1, 18\n",
      "Correctness on the training set: 0.685\n",
      "Correctness on a test set: 0.653\n",
      "\n",
      "7, 1, 19\n",
      "Correctness on the training set: 0.690\n",
      "Correctness on a test set: 0.655\n",
      "\n",
      "7, 1, 20\n",
      "Correctness on the training set: 0.694\n",
      "Correctness on a test set: 0.658\n",
      "\n",
      "7, 1, 21\n",
      "Correctness on the training set: 0.699\n",
      "Correctness on a test set: 0.658\n",
      "\n",
      "7, 1, 23\n",
      "Correctness on the training set: 0.707\n",
      "Correctness on a test set: 0.661\n",
      "\n",
      "7, 1, 25\n",
      "Correctness on the training set: 0.711\n",
      "Correctness on a test set: 0.662\n",
      "\n",
      "7, 1, 26\n",
      "Correctness on the training set: 0.714\n",
      "Correctness on a test set: 0.664\n",
      "\n",
      "7, 1, 27\n",
      "Correctness on the training set: 0.715\n",
      "Correctness on a test set: 0.668\n",
      "\n",
      "7, 1, 30\n",
      "Correctness on the training set: 0.717\n",
      "Correctness on a test set: 0.668\n",
      "\n",
      "7, 1, 31\n",
      "Correctness on the training set: 0.721\n",
      "Correctness on a test set: 0.671\n",
      "\n",
      "7, 1, 34\n",
      "Correctness on the training set: 0.723\n",
      "Correctness on a test set: 0.671\n",
      "\n",
      "7, 1, 37\n",
      "Correctness on the training set: 0.727\n",
      "Correctness on a test set: 0.672\n",
      "\n",
      "7, 1, 38\n",
      "Correctness on the training set: 0.728\n",
      "Correctness on a test set: 0.673\n",
      "\n",
      "7, 1, 40\n",
      "Correctness on the training set: 0.727\n",
      "Correctness on a test set: 0.675\n",
      "\n",
      "7, 1, 41\n",
      "Correctness on the training set: 0.729\n",
      "Correctness on a test set: 0.676\n",
      "\n",
      "7, 1, 42\n",
      "Correctness on the training set: 0.730\n",
      "Correctness on a test set: 0.676\n",
      "\n",
      "7, 1, 43\n",
      "Correctness on the training set: 0.731\n",
      "Correctness on a test set: 0.677\n",
      "\n",
      "7, 1, 44\n",
      "Correctness on the training set: 0.732\n",
      "Correctness on a test set: 0.678\n",
      "\n",
      "7, 1, 45\n",
      "Correctness on the training set: 0.733\n",
      "Correctness on a test set: 0.679\n",
      "\n",
      "7, 1, 46\n",
      "Correctness on the training set: 0.735\n",
      "Correctness on a test set: 0.679\n",
      "\n",
      "7, 1, 48\n",
      "Correctness on the training set: 0.736\n",
      "Correctness on a test set: 0.681\n",
      "\n",
      "7, 1, 50\n",
      "Correctness on the training set: 0.740\n",
      "Correctness on a test set: 0.683\n",
      "\n",
      "7, 1, 52\n",
      "Correctness on the training set: 0.741\n",
      "Correctness on a test set: 0.684\n",
      "\n",
      "7, 1, 55\n",
      "Correctness on the training set: 0.745\n",
      "Correctness on a test set: 0.684\n",
      "\n",
      "7, 1, 56\n",
      "Correctness on the training set: 0.746\n",
      "Correctness on a test set: 0.686\n",
      "\n",
      "7, 1, 57\n",
      "Correctness on the training set: 0.747\n",
      "Correctness on a test set: 0.686\n",
      "\n",
      "7, 1, 58\n",
      "Correctness on the training set: 0.749\n",
      "Correctness on a test set: 0.688\n",
      "\n",
      "7, 1, 60\n",
      "Correctness on the training set: 0.750\n",
      "Correctness on a test set: 0.689\n",
      "\n",
      "7, 1, 61\n",
      "Correctness on the training set: 0.751\n",
      "Correctness on a test set: 0.690\n",
      "\n",
      "7, 1, 65\n",
      "Correctness on the training set: 0.754\n",
      "Correctness on a test set: 0.691\n",
      "\n",
      "7, 1, 67\n",
      "Correctness on the training set: 0.756\n",
      "Correctness on a test set: 0.692\n",
      "\n",
      "7, 1, 68\n",
      "Correctness on the training set: 0.758\n",
      "Correctness on a test set: 0.693\n",
      "\n",
      "7, 1, 70\n",
      "Correctness on the training set: 0.760\n",
      "Correctness on a test set: 0.693\n",
      "\n",
      "7, 1, 71\n",
      "Correctness on the training set: 0.760\n",
      "Correctness on a test set: 0.694\n",
      "\n",
      "7, 1, 72\n",
      "Correctness on the training set: 0.760\n",
      "Correctness on a test set: 0.694\n",
      "\n",
      "7, 1, 73\n",
      "Correctness on the training set: 0.761\n",
      "Correctness on a test set: 0.695\n",
      "\n",
      "7, 1, 83\n",
      "Correctness on the training set: 0.769\n",
      "Correctness on a test set: 0.696\n",
      "\n",
      "7, 1, 85\n",
      "Correctness on the training set: 0.771\n",
      "Correctness on a test set: 0.698\n",
      "\n",
      "7, 1, 97\n",
      "Correctness on the training set: 0.780\n",
      "Correctness on a test set: 0.699\n",
      "\n",
      "max_features=2\n",
      "7, 2, 63\n",
      "Correctness on the training set: 0.784\n",
      "Correctness on a test set: 0.700\n",
      "\n",
      "7, 2, 64\n",
      "Correctness on the training set: 0.786\n",
      "Correctness on a test set: 0.701\n",
      "\n",
      "7, 2, 72\n",
      "Correctness on the training set: 0.794\n",
      "Correctness on a test set: 0.702\n",
      "\n",
      "7, 2, 73\n",
      "Correctness on the training set: 0.795\n",
      "Correctness on a test set: 0.703\n",
      "\n",
      "7, 2, 83\n",
      "Correctness on the training set: 0.805\n",
      "Correctness on a test set: 0.703\n",
      "\n",
      "7, 2, 84\n",
      "Correctness on the training set: 0.806\n",
      "Correctness on a test set: 0.703\n",
      "\n",
      "7, 2, 87\n",
      "Correctness on the training set: 0.807\n",
      "Correctness on a test set: 0.704\n",
      "\n",
      "7, 2, 89\n",
      "Correctness on the training set: 0.810\n",
      "Correctness on a test set: 0.705\n",
      "\n",
      "7, 2, 92\n",
      "Correctness on the training set: 0.812\n",
      "Correctness on a test set: 0.705\n",
      "\n",
      "7, 2, 94\n",
      "Correctness on the training set: 0.814\n",
      "Correctness on a test set: 0.707\n",
      "\n",
      "max_features=3\n",
      "max_features=4\n",
      "max_features=5\n",
      "max_features=6\n",
      "max_features=7\n",
      "max_features=8\n",
      "max_features=9\n",
      "max_features=10\n",
      "max_features=11\n",
      "max_features=12\n",
      "max_features=13\n",
      "max_features=14\n",
      "max_features=15\n",
      "max_features=16\n",
      "max_features=17\n",
      "max_features=18\n",
      "max_features=19\n",
      "max_features=20\n",
      "max_features=21\n",
      "max_features=22\n",
      "max_features=23\n",
      "max_features=24\n",
      "max_features=25\n",
      "max_features=26\n",
      "max_depth=8\n",
      "max_features=1\n",
      "max_features=2\n",
      "max_features=3\n",
      "max_features=4\n",
      "max_features=5\n",
      "max_features=6\n",
      "max_features=7\n",
      "max_features=8\n",
      "max_features=9\n",
      "max_features=10\n"
     ]
    }
   ],
   "source": [
    "X_train, X_test, y_train, y_test = train_test_split(\n",
    "data, target, stratify=target, random_state=42)\n",
    "max_score = 0\n",
    "for i in range(7,30):\n",
    "    print(f\"> max_depth={i}\")\n",
    "    for j in range(1,27):\n",
    "        print(f\" >> max_features={j}\")\n",
    "        for k in range(1, 100):\n",
    "            print(f\"  >>> n_estimators={k}\")\n",
    "            gbrt = GradientBoostingClassifier(max_depth=i, max_features=j, n_estimators=k, random_state=0)\n",
    "            gbrt.fit(X_train, y_train)\n",
    "            if max_score < gbrt.score(X_test, y_test):\n",
    "                print(f\"{i}, {j}, {k}\")\n",
    "                print(\"Correctness on the training set: {:.3f}\".format(gbrt.score(X_train, y_train)))\n",
    "                print(\"Correctness on a test set: {:.3f}\".format(gbrt.score(X_test, y_test)))\n",
    "                print()\n",
    "                max_score = gbrt.score(X_test, y_test)"
   ]
  },
  {
   "cell_type": "markdown",
   "metadata": {},
   "source": [
    "### max_depth=5, max_features=25, n_estimators=61"
   ]
  },
  {
   "cell_type": "code",
   "execution_count": 17,
   "metadata": {
    "scrolled": false
   },
   "outputs": [
    {
     "name": "stdout",
     "output_type": "stream",
     "text": [
      "Correctness on the training set: 0.809\n",
      "Correctness on a test set: 0.697\n"
     ]
    },
    {
     "data": {
      "image/png": "[encoded data removed]",
      "text/plain": [
       "<Figure size 432x288 with 1 Axes>"
      ]
     },
     "metadata": {
      "needs_background": "light"
     },
     "output_type": "display_data"
    }
   ],
   "source": [
    "X_train, X_test, y_train, y_test = train_test_split(\n",
    "data, target, stratify=target, random_state=42)\n",
    "gbrt = GradientBoostingClassifier(max_depth=5, max_features=25, n_estimators=61, random_state=0)\n",
    "gbrt.fit(X_train, y_train)\n",
    "print(\"Correctness on the training set: {:.3f}\".format(gbrt.score(X_train, y_train)))\n",
    "print(\"Correctness on a test set: {:.3f}\".format(gbrt.score(X_test, y_test)))\n",
    "plot_feature_importances(gbrt)"
   ]
  },
  {
   "cell_type": "markdown",
   "metadata": {},
   "source": [
    "### Confusion matrix"
   ]
  },
  {
   "cell_type": "code",
   "execution_count": 12,
   "metadata": {
    "scrolled": false
   },
   "outputs": [
    {
     "name": "stdout",
     "output_type": "stream",
     "text": [
      "Confusion matrix:\n",
      "[[319 127   4]\n",
      " [ 91 591   7]\n",
      " [ 72  55  18]]\n"
     ]
    }
   ],
   "source": [
    "from sklearn.metrics import confusion_matrix\n",
    "prediction = gbrt.predict(X_test)\n",
    "confusion = confusion_matrix(y_test, prediction)\n",
    "print(\"Confusion matrix:\\n{}\".format(confusion))"
   ]
  },
  {
   "cell_type": "code",
   "execution_count": 14,
   "metadata": {},
   "outputs": [
    {
     "name": "stdout",
     "output_type": "stream",
     "text": [
      "Confusion matrix\n",
      "[[0.69020501 0.30523918 0.00455581]\n",
      " [0.13722628 0.86131387 0.00145985]\n",
      " [0.6375     0.3375     0.025     ]]\n"
     ]
    },
    {
     "data": {
      "image/png": "[encoded data removed]",
      "text/plain": [
       "<Figure size 432x288 with 2 Axes>"
      ]
     },
     "metadata": {
      "needs_background": "light"
     },
     "output_type": "display_data"
    }
   ],
   "source": [
    "from sklearn.metrics import plot_confusion_matrix\n",
    "class_names = ('bad', 'good', 'agood')\n",
    "title = \"Confusion matrix\"\n",
    "disp = plot_confusion_matrix(gbrt, X_test, y_test,\n",
    "                                 display_labels=class_names,\n",
    "                                 cmap=plt.cm.Blues,\n",
    "                                 normalize='true'\n",
    "                            )\n",
    "disp.ax_.set_title(title)\n",
    "print(title)\n",
    "print(disp.confusion_matrix)"
   ]
  },
  {
   "cell_type": "markdown",
   "metadata": {},
   "source": [
    "## Сохранение и загрузка обученных моделей"
   ]
  },
  {
   "cell_type": "markdown",
   "metadata": {},
   "source": [
    "# Save model"
   ]
  },
  {
   "cell_type": "code",
   "execution_count": 18,
   "metadata": {},
   "outputs": [],
   "source": [
    "import pickle\n",
    "# save the model to disk\n",
    "filename = ROOT_DIR + '/Data/Models/gbrt_validation_model.sav'\n",
    "pickle.dump(gbrt, open(filename, 'wb'))"
   ]
  },
  {
   "cell_type": "markdown",
   "metadata": {},
   "source": [
    "После обработки данные сохраняются в директории **Data/Models/gbrt_validation_model.sav** в файл."
   ]
  },
  {
   "cell_type": "markdown",
   "metadata": {},
   "source": [
    "# Load model"
   ]
  },
  {
   "cell_type": "code",
   "execution_count": 19,
   "metadata": {
    "scrolled": true
   },
   "outputs": [
    {
     "name": "stdout",
     "output_type": "stream",
     "text": [
      "0.6970404984423676\n"
     ]
    }
   ],
   "source": [
    "# load the model from disk\n",
    "filemane = ROOT_DIR + '/Data/Models/gbrt_validation_model.sav'\n",
    "loaded_model = pickle.load(open(filename, 'rb'))\n",
    "result = loaded_model.score(X_test, y_test)\n",
    "print(result)"
   ]
  },
  {
   "cell_type": "code",
   "execution_count": null,
   "metadata": {},
   "outputs": [],
   "source": []
  }
 ],
 "metadata": {
  "kernelspec": {
   "display_name": "Python 3 (ipykernel)",
   "language": "python",
   "name": "python3"
  },
  "language_info": {
   "codemirror_mode": {
    "name": "ipython",
    "version": 3
   },
   "file_extension": ".py",
   "mimetype": "text/x-python",
   "name": "python",
   "nbconvert_exporter": "python",
   "pygments_lexer": "ipython3",
   "version": "3.9.5"
  }
 },
 "nbformat": 4,
 "nbformat_minor": 1
}
