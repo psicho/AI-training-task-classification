{
 "cells": [
  {
   "cell_type": "markdown",
   "metadata": {
    "pycharm": {
     "name": "#%%\n"
    }
   },
   "source": [
    "# GradientBoostingClassifier for 3 variant validation (27 parameters)"
   ]
  },
  {
   "cell_type": "markdown",
   "metadata": {},
   "source": [
    "### Обучение модели валидации задач по Bad/Good/Agood"
   ]
  },
  {
   "cell_type": "code",
   "execution_count": 1,
   "metadata": {
    "pycharm": {
     "name": "#%%\n"
    }
   },
   "outputs": [],
   "source": [
    "import pandas as pd\n",
    "from sklearn.ensemble import GradientBoostingClassifier\n",
    "from sklearn.model_selection import train_test_split\n",
    "import matplotlib.pyplot as plt\n",
    "import json\n",
    "import numpy as np\n",
    "from definitions import ROOT_DIR"
   ]
  },
  {
   "cell_type": "code",
   "execution_count": 2,
   "metadata": {},
   "outputs": [],
   "source": [
    "with open(ROOT_DIR + \"/Data/training_validation_dataset.json\", \"r\") as n:\n",
    "            n = json.load(n)"
   ]
  },
  {
   "cell_type": "code",
   "execution_count": 3,
   "metadata": {},
   "outputs": [],
   "source": [
    "data = pd.Series(n['data'])"
   ]
  },
  {
   "cell_type": "code",
   "execution_count": 4,
   "metadata": {},
   "outputs": [],
   "source": [
    "target = pd.Series(n['target'])"
   ]
  },
  {
   "cell_type": "code",
   "execution_count": 5,
   "metadata": {},
   "outputs": [
    {
     "data": {
      "text/plain": [
       "((10691,), (10691,))"
      ]
     },
     "execution_count": 5,
     "metadata": {},
     "output_type": "execute_result"
    }
   ],
   "source": [
    "data.shape, target.shape"
   ]
  },
  {
   "cell_type": "code",
   "execution_count": 6,
   "metadata": {},
   "outputs": [],
   "source": [
    "data = np.asarray(n['data'], dtype=np.int32)\n",
    "target = np.asarray(n['target'], dtype=np.int32)"
   ]
  },
  {
   "cell_type": "code",
   "execution_count": 7,
   "metadata": {},
   "outputs": [
    {
     "data": {
      "text/plain": [
       "((10691, 27), (10691,))"
      ]
     },
     "execution_count": 7,
     "metadata": {},
     "output_type": "execute_result"
    }
   ],
   "source": [
    "data.shape, target.shape"
   ]
  },
  {
   "cell_type": "code",
   "execution_count": 8,
   "metadata": {},
   "outputs": [],
   "source": [
    "token_name_list = [\n",
    "    'ADJ', \n",
    "    'ADP',\n",
    "    'ADV',\n",
    "    'AUX',\n",
    "    'CCONJ',\n",
    "    'DET',\n",
    "    'INTJ',\n",
    "    'NOUN',\n",
    "    'NUM',\n",
    "    'PART',\n",
    "    'PRON',\n",
    "    'PROPN',\n",
    "    'PUNCT',\n",
    "    'SCONJ',\n",
    "    'SYM',\n",
    "    'VERB',\n",
    "    'X',\n",
    "    'all_to_num',\n",
    "    'exist_question',\n",
    "    'negative_numbers',\n",
    "    'more_hundred',\n",
    "    'exist_noun_in',\n",
    "    'question_in_end',\n",
    "    'question_not_end',\n",
    "    'group_calculate',\n",
    "    'in_bad_list',\n",
    "    'one_digit',\n",
    "]\n",
    "n['feature_names'] = token_name_list"
   ]
  },
  {
   "cell_type": "code",
   "execution_count": 9,
   "metadata": {},
   "outputs": [],
   "source": [
    "def plot_feature_importances(model):\n",
    "    n_features = data.shape[1]\n",
    "    plt.barh(range(n_features), model.feature_importances_, align='center')\n",
    "    plt.yticks(np.arange(n_features), n['feature_names'])\n",
    "    plt.xlabel(\"Feature importance\")\n",
    "    plt.ylabel(\"Feature\")"
   ]
  },
  {
   "cell_type": "code",
   "execution_count": 10,
   "metadata": {},
   "outputs": [],
   "source": [
    "from sklearn.ensemble import GradientBoostingClassifier\n",
    "from sklearn.model_selection import train_test_split\n",
    "import matplotlib.pyplot as plt"
   ]
  },
  {
   "cell_type": "markdown",
   "metadata": {},
   "source": [
    "## Calculate of default model"
   ]
  },
  {
   "cell_type": "code",
   "execution_count": 11,
   "metadata": {
    "scrolled": false
   },
   "outputs": [
    {
     "name": "stdout",
     "output_type": "stream",
     "text": [
      "Correctness on the training set: 0.711\n",
      "Correctness on a test set: 0.676\n"
     ]
    }
   ],
   "source": [
    "X_train, X_test, y_train, y_test = train_test_split(data, target, random_state=0)\n",
    "gbrt = GradientBoostingClassifier(random_state=0)\n",
    "gbrt.fit(X_train, y_train)\n",
    "print(\"Correctness on the training set: {:.3f}\".format(gbrt.score(X_train, y_train)))\n",
    "print(\"Correctness on a test set: {:.3f}\".format(gbrt.score(X_test, y_test)))"
   ]
  },
  {
   "cell_type": "markdown",
   "metadata": {},
   "source": [
    "#### Визуализация важности признаков"
   ]
  },
  {
   "cell_type": "code",
   "execution_count": 12,
   "metadata": {},
   "outputs": [
    {
     "data": {
      "image/png": "[encoded data removed]",
      "text/plain": [
       "<Figure size 432x288 with 1 Axes>"
      ]
     },
     "metadata": {
      "needs_background": "light"
     },
     "output_type": "display_data"
    }
   ],
   "source": [
    "gbrt = GradientBoostingClassifier(random_state=0)\n",
    "gbrt.fit(X_train, y_train)\n",
    "plot_feature_importances(gbrt)"
   ]
  },
  {
   "cell_type": "markdown",
   "metadata": {},
   "source": [
    "### Confusion matrix"
   ]
  },
  {
   "cell_type": "code",
   "execution_count": 13,
   "metadata": {},
   "outputs": [
    {
     "name": "stdout",
     "output_type": "stream",
     "text": [
      "Confusion matrix:\n",
      "[[ 319  267   48]\n",
      " [ 116 1304  106]\n",
      " [  80  249  184]]\n"
     ]
    }
   ],
   "source": [
    "from sklearn.metrics import confusion_matrix\n",
    "prediction = gbrt.predict(X_test)\n",
    "confusion = confusion_matrix(y_test, prediction)\n",
    "print(\"Confusion matrix:\\n{}\".format(confusion))"
   ]
  },
  {
   "cell_type": "code",
   "execution_count": 14,
   "metadata": {},
   "outputs": [
    {
     "name": "stdout",
     "output_type": "stream",
     "text": [
      "Confusion matrix\n",
      "[[0.50315457 0.42113565 0.07570978]\n",
      " [0.07601573 0.85452163 0.06946265]\n",
      " [0.15594542 0.48538012 0.35867446]]\n"
     ]
    },
    {
     "data": {
      "image/png": "[encoded data removed]",
      "text/plain": [
       "<Figure size 432x288 with 2 Axes>"
      ]
     },
     "metadata": {
      "needs_background": "light"
     },
     "output_type": "display_data"
    }
   ],
   "source": [
    "from sklearn.metrics import plot_confusion_matrix\n",
    "class_names = ('bad', 'good', 'agood')\n",
    "title = \"Confusion matrix\"\n",
    "disp = plot_confusion_matrix(gbrt, X_test, y_test,\n",
    "                                 display_labels=class_names,\n",
    "                                 cmap=plt.cm.Blues,\n",
    "                                 normalize='true'\n",
    "                            )\n",
    "disp.ax_.set_title(title)\n",
    "print(title)\n",
    "print(disp.confusion_matrix)"
   ]
  },
  {
   "cell_type": "markdown",
   "metadata": {},
   "source": [
    "## Обучение с вариацией по двум параметрам: max_features, max_depth"
   ]
  },
  {
   "cell_type": "code",
   "execution_count": 15,
   "metadata": {
    "scrolled": true
   },
   "outputs": [
    {
     "name": "stdout",
     "output_type": "stream",
     "text": [
      "max_features=1 Correctness on the training set: 0.610\n",
      "max_depth=1 Correctness on a test set: 0.607\n",
      "\n",
      "max_features=2 Correctness on the training set: 0.626\n",
      "max_depth=1 Correctness on a test set: 0.621\n",
      "\n",
      "max_features=3 Correctness on the training set: 0.633\n",
      "max_depth=1 Correctness on a test set: 0.629\n",
      "\n",
      "max_features=4 Correctness on the training set: 0.640\n",
      "max_depth=1 Correctness on a test set: 0.632\n",
      "\n",
      "max_features=5 Correctness on the training set: 0.644\n",
      "max_depth=1 Correctness on a test set: 0.634\n",
      "\n",
      "max_features=7 Correctness on the training set: 0.646\n",
      "max_depth=1 Correctness on a test set: 0.639\n",
      "\n",
      "max_features=1 Correctness on the training set: 0.655\n",
      "max_depth=2 Correctness on a test set: 0.641\n",
      "\n",
      "max_features=2 Correctness on the training set: 0.667\n",
      "max_depth=2 Correctness on a test set: 0.658\n",
      "\n",
      "max_features=3 Correctness on the training set: 0.676\n",
      "max_depth=2 Correctness on a test set: 0.661\n",
      "\n",
      "max_features=5 Correctness on the training set: 0.680\n",
      "max_depth=2 Correctness on a test set: 0.668\n",
      "\n",
      "max_features=8 Correctness on the training set: 0.680\n",
      "max_depth=2 Correctness on a test set: 0.669\n",
      "\n",
      "max_features=2 Correctness on the training set: 0.693\n",
      "max_depth=3 Correctness on a test set: 0.676\n",
      "\n",
      "max_features=3 Correctness on the training set: 0.698\n",
      "max_depth=3 Correctness on a test set: 0.678\n",
      "\n",
      "max_features=5 Correctness on the training set: 0.702\n",
      "max_depth=3 Correctness on a test set: 0.682\n",
      "\n",
      "max_features=6 Correctness on the training set: 0.705\n",
      "max_depth=3 Correctness on a test set: 0.686\n",
      "\n",
      "max_features=3 Correctness on the training set: 0.722\n",
      "max_depth=4 Correctness on a test set: 0.688\n",
      "\n",
      "max_features=4 Correctness on the training set: 0.723\n",
      "max_depth=4 Correctness on a test set: 0.689\n",
      "\n",
      "max_features=5 Correctness on the training set: 0.724\n",
      "max_depth=4 Correctness on a test set: 0.691\n",
      "\n",
      "max_features=6 Correctness on the training set: 0.730\n",
      "max_depth=4 Correctness on a test set: 0.692\n",
      "\n",
      "max_features=15 Correctness on the training set: 0.741\n",
      "max_depth=4 Correctness on a test set: 0.697\n",
      "\n",
      "max_features=7 Correctness on the training set: 0.769\n",
      "max_depth=5 Correctness on a test set: 0.698\n",
      "\n",
      "max_features=11 Correctness on the training set: 0.776\n",
      "max_depth=5 Correctness on a test set: 0.701\n",
      "\n",
      "max_features=6 Correctness on the training set: 0.811\n",
      "max_depth=6 Correctness on a test set: 0.702\n",
      "\n",
      "max_features=7 Correctness on the training set: 0.816\n",
      "max_depth=6 Correctness on a test set: 0.703\n",
      "\n",
      "max_features=13 Correctness on the training set: 0.881\n",
      "max_depth=7 Correctness on a test set: 0.704\n",
      "\n",
      "max_features=15 Correctness on the training set: 0.884\n",
      "max_depth=7 Correctness on a test set: 0.706\n",
      "\n",
      "max_features=20 Correctness on the training set: 0.892\n",
      "max_depth=7 Correctness on a test set: 0.707\n",
      "\n"
     ]
    },
    {
     "ename": "KeyboardInterrupt",
     "evalue": "",
     "output_type": "error",
     "traceback": [
      "\u001b[0;31m---------------------------------------------------------------------------\u001b[0m",
      "\u001b[0;31mKeyboardInterrupt\u001b[0m                         Traceback (most recent call last)",
      "\u001b[0;32m<ipython-input-15-1a89b89721b0>\u001b[0m in \u001b[0;36m<module>\u001b[0;34m\u001b[0m\n\u001b[1;32m      5\u001b[0m     \u001b[0;32mfor\u001b[0m \u001b[0mj\u001b[0m \u001b[0;32min\u001b[0m \u001b[0mrange\u001b[0m\u001b[0;34m(\u001b[0m\u001b[0;36m1\u001b[0m\u001b[0;34m,\u001b[0m\u001b[0;36m26\u001b[0m\u001b[0;34m)\u001b[0m\u001b[0;34m:\u001b[0m\u001b[0;34m\u001b[0m\u001b[0;34m\u001b[0m\u001b[0m\n\u001b[1;32m      6\u001b[0m         \u001b[0mgbrt\u001b[0m \u001b[0;34m=\u001b[0m \u001b[0mGradientBoostingClassifier\u001b[0m\u001b[0;34m(\u001b[0m\u001b[0mmax_depth\u001b[0m\u001b[0;34m=\u001b[0m\u001b[0mi\u001b[0m\u001b[0;34m,\u001b[0m \u001b[0mmax_features\u001b[0m\u001b[0;34m=\u001b[0m\u001b[0mj\u001b[0m\u001b[0;34m,\u001b[0m \u001b[0mrandom_state\u001b[0m\u001b[0;34m=\u001b[0m\u001b[0;36m0\u001b[0m\u001b[0;34m)\u001b[0m\u001b[0;34m\u001b[0m\u001b[0;34m\u001b[0m\u001b[0m\n\u001b[0;32m----> 7\u001b[0;31m         \u001b[0mgbrt\u001b[0m\u001b[0;34m.\u001b[0m\u001b[0mfit\u001b[0m\u001b[0;34m(\u001b[0m\u001b[0mX_train\u001b[0m\u001b[0;34m,\u001b[0m \u001b[0my_train\u001b[0m\u001b[0;34m)\u001b[0m\u001b[0;34m\u001b[0m\u001b[0;34m\u001b[0m\u001b[0m\n\u001b[0m\u001b[1;32m      8\u001b[0m         \u001b[0;32mif\u001b[0m \u001b[0mmax_score\u001b[0m \u001b[0;34m<\u001b[0m \u001b[0mgbrt\u001b[0m\u001b[0;34m.\u001b[0m\u001b[0mscore\u001b[0m\u001b[0;34m(\u001b[0m\u001b[0mX_test\u001b[0m\u001b[0;34m,\u001b[0m \u001b[0my_test\u001b[0m\u001b[0;34m)\u001b[0m\u001b[0;34m:\u001b[0m\u001b[0;34m\u001b[0m\u001b[0;34m\u001b[0m\u001b[0m\n\u001b[1;32m      9\u001b[0m             \u001b[0mprint\u001b[0m\u001b[0;34m(\u001b[0m\u001b[0;34mf\"max_features={j}\"\u001b[0m\u001b[0;34m,\u001b[0m \u001b[0;34m\"Correctness on the training set: {:.3f}\"\u001b[0m\u001b[0;34m.\u001b[0m\u001b[0mformat\u001b[0m\u001b[0;34m(\u001b[0m\u001b[0mgbrt\u001b[0m\u001b[0;34m.\u001b[0m\u001b[0mscore\u001b[0m\u001b[0;34m(\u001b[0m\u001b[0mX_train\u001b[0m\u001b[0;34m,\u001b[0m \u001b[0my_train\u001b[0m\u001b[0;34m)\u001b[0m\u001b[0;34m)\u001b[0m\u001b[0;34m)\u001b[0m\u001b[0;34m\u001b[0m\u001b[0;34m\u001b[0m\u001b[0m\n",
      "\u001b[0;32m~/AI-training-task-classification/venv/lib/python3.6/site-packages/sklearn/ensemble/_gb.py\u001b[0m in \u001b[0;36mfit\u001b[0;34m(self, X, y, sample_weight, monitor)\u001b[0m\n\u001b[1;32m    504\u001b[0m         n_stages = self._fit_stages(\n\u001b[1;32m    505\u001b[0m             \u001b[0mX\u001b[0m\u001b[0;34m,\u001b[0m \u001b[0my\u001b[0m\u001b[0;34m,\u001b[0m \u001b[0mraw_predictions\u001b[0m\u001b[0;34m,\u001b[0m \u001b[0msample_weight\u001b[0m\u001b[0;34m,\u001b[0m \u001b[0mself\u001b[0m\u001b[0;34m.\u001b[0m\u001b[0m_rng\u001b[0m\u001b[0;34m,\u001b[0m \u001b[0mX_val\u001b[0m\u001b[0;34m,\u001b[0m \u001b[0my_val\u001b[0m\u001b[0;34m,\u001b[0m\u001b[0;34m\u001b[0m\u001b[0;34m\u001b[0m\u001b[0m\n\u001b[0;32m--> 506\u001b[0;31m             sample_weight_val, begin_at_stage, monitor)\n\u001b[0m\u001b[1;32m    507\u001b[0m \u001b[0;34m\u001b[0m\u001b[0m\n\u001b[1;32m    508\u001b[0m         \u001b[0;31m# change shape of arrays after fit (early-stopping or additional ests)\u001b[0m\u001b[0;34m\u001b[0m\u001b[0;34m\u001b[0m\u001b[0;34m\u001b[0m\u001b[0m\n",
      "\u001b[0;32m~/AI-training-task-classification/venv/lib/python3.6/site-packages/sklearn/ensemble/_gb.py\u001b[0m in \u001b[0;36m_fit_stages\u001b[0;34m(self, X, y, raw_predictions, sample_weight, random_state, X_val, y_val, sample_weight_val, begin_at_stage, monitor)\u001b[0m\n\u001b[1;32m    561\u001b[0m             raw_predictions = self._fit_stage(\n\u001b[1;32m    562\u001b[0m                 \u001b[0mi\u001b[0m\u001b[0;34m,\u001b[0m \u001b[0mX\u001b[0m\u001b[0;34m,\u001b[0m \u001b[0my\u001b[0m\u001b[0;34m,\u001b[0m \u001b[0mraw_predictions\u001b[0m\u001b[0;34m,\u001b[0m \u001b[0msample_weight\u001b[0m\u001b[0;34m,\u001b[0m \u001b[0msample_mask\u001b[0m\u001b[0;34m,\u001b[0m\u001b[0;34m\u001b[0m\u001b[0;34m\u001b[0m\u001b[0m\n\u001b[0;32m--> 563\u001b[0;31m                 random_state, X_csc, X_csr)\n\u001b[0m\u001b[1;32m    564\u001b[0m \u001b[0;34m\u001b[0m\u001b[0m\n\u001b[1;32m    565\u001b[0m             \u001b[0;31m# track deviance (= loss)\u001b[0m\u001b[0;34m\u001b[0m\u001b[0;34m\u001b[0m\u001b[0;34m\u001b[0m\u001b[0m\n",
      "\u001b[0;32m~/AI-training-task-classification/venv/lib/python3.6/site-packages/sklearn/ensemble/_gb.py\u001b[0m in \u001b[0;36m_fit_stage\u001b[0;34m(self, i, X, y, raw_predictions, sample_weight, sample_mask, random_state, X_csc, X_csr)\u001b[0m\n\u001b[1;32m    218\u001b[0m             loss.update_terminal_regions(\n\u001b[1;32m    219\u001b[0m                 \u001b[0mtree\u001b[0m\u001b[0;34m.\u001b[0m\u001b[0mtree_\u001b[0m\u001b[0;34m,\u001b[0m \u001b[0mX\u001b[0m\u001b[0;34m,\u001b[0m \u001b[0my\u001b[0m\u001b[0;34m,\u001b[0m \u001b[0mresidual\u001b[0m\u001b[0;34m,\u001b[0m \u001b[0mraw_predictions\u001b[0m\u001b[0;34m,\u001b[0m \u001b[0msample_weight\u001b[0m\u001b[0;34m,\u001b[0m\u001b[0;34m\u001b[0m\u001b[0;34m\u001b[0m\u001b[0m\n\u001b[0;32m--> 220\u001b[0;31m                 sample_mask, learning_rate=self.learning_rate, k=k)\n\u001b[0m\u001b[1;32m    221\u001b[0m \u001b[0;34m\u001b[0m\u001b[0m\n\u001b[1;32m    222\u001b[0m             \u001b[0;31m# add tree to ensemble\u001b[0m\u001b[0;34m\u001b[0m\u001b[0;34m\u001b[0m\u001b[0;34m\u001b[0m\u001b[0m\n",
      "\u001b[0;32m~/AI-training-task-classification/venv/lib/python3.6/site-packages/sklearn/ensemble/_gb_losses.py\u001b[0m in \u001b[0;36mupdate_terminal_regions\u001b[0;34m(self, tree, X, y, residual, raw_predictions, sample_weight, sample_mask, learning_rate, k)\u001b[0m\n\u001b[1;32m    112\u001b[0m             self._update_terminal_region(tree, masked_terminal_regions,\n\u001b[1;32m    113\u001b[0m                                          \u001b[0mleaf\u001b[0m\u001b[0;34m,\u001b[0m \u001b[0mX\u001b[0m\u001b[0;34m,\u001b[0m \u001b[0my\u001b[0m\u001b[0;34m,\u001b[0m \u001b[0mresidual\u001b[0m\u001b[0;34m,\u001b[0m\u001b[0;34m\u001b[0m\u001b[0;34m\u001b[0m\u001b[0m\n\u001b[0;32m--> 114\u001b[0;31m                                          raw_predictions[:, k], sample_weight)\n\u001b[0m\u001b[1;32m    115\u001b[0m \u001b[0;34m\u001b[0m\u001b[0m\n\u001b[1;32m    116\u001b[0m         \u001b[0;31m# update predictions (both in-bag and out-of-bag)\u001b[0m\u001b[0;34m\u001b[0m\u001b[0;34m\u001b[0m\u001b[0;34m\u001b[0m\u001b[0m\n",
      "\u001b[0;32m~/AI-training-task-classification/venv/lib/python3.6/site-packages/sklearn/ensemble/_gb_losses.py\u001b[0m in \u001b[0;36m_update_terminal_region\u001b[0;34m(self, tree, terminal_regions, leaf, X, y, residual, raw_predictions, sample_weight)\u001b[0m\n\u001b[1;32m    723\u001b[0m                                 residual, raw_predictions, sample_weight):\n\u001b[1;32m    724\u001b[0m         \u001b[0;34m\"\"\"Make a single Newton-Raphson step. \"\"\"\u001b[0m\u001b[0;34m\u001b[0m\u001b[0;34m\u001b[0m\u001b[0m\n\u001b[0;32m--> 725\u001b[0;31m         \u001b[0mterminal_region\u001b[0m \u001b[0;34m=\u001b[0m \u001b[0mnp\u001b[0m\u001b[0;34m.\u001b[0m\u001b[0mwhere\u001b[0m\u001b[0;34m(\u001b[0m\u001b[0mterminal_regions\u001b[0m \u001b[0;34m==\u001b[0m \u001b[0mleaf\u001b[0m\u001b[0;34m)\u001b[0m\u001b[0;34m[\u001b[0m\u001b[0;36m0\u001b[0m\u001b[0;34m]\u001b[0m\u001b[0;34m\u001b[0m\u001b[0;34m\u001b[0m\u001b[0m\n\u001b[0m\u001b[1;32m    726\u001b[0m         \u001b[0mresidual\u001b[0m \u001b[0;34m=\u001b[0m \u001b[0mresidual\u001b[0m\u001b[0;34m.\u001b[0m\u001b[0mtake\u001b[0m\u001b[0;34m(\u001b[0m\u001b[0mterminal_region\u001b[0m\u001b[0;34m,\u001b[0m \u001b[0maxis\u001b[0m\u001b[0;34m=\u001b[0m\u001b[0;36m0\u001b[0m\u001b[0;34m)\u001b[0m\u001b[0;34m\u001b[0m\u001b[0;34m\u001b[0m\u001b[0m\n\u001b[1;32m    727\u001b[0m         \u001b[0my\u001b[0m \u001b[0;34m=\u001b[0m \u001b[0my\u001b[0m\u001b[0;34m.\u001b[0m\u001b[0mtake\u001b[0m\u001b[0;34m(\u001b[0m\u001b[0mterminal_region\u001b[0m\u001b[0;34m,\u001b[0m \u001b[0maxis\u001b[0m\u001b[0;34m=\u001b[0m\u001b[0;36m0\u001b[0m\u001b[0;34m)\u001b[0m\u001b[0;34m\u001b[0m\u001b[0;34m\u001b[0m\u001b[0m\n",
      "\u001b[0;31mKeyboardInterrupt\u001b[0m: "
     ]
    }
   ],
   "source": [
    "X_train, X_test, y_train, y_test = train_test_split(\n",
    "data, target, stratify=target, random_state=42)\n",
    "max_score = 0\n",
    "for i in range(1,30):\n",
    "    for j in range(1,26):\n",
    "        gbrt = GradientBoostingClassifier(max_depth=i, max_features=j, random_state=0)\n",
    "        gbrt.fit(X_train, y_train)\n",
    "        if max_score < gbrt.score(X_test, y_test):\n",
    "            print(f\"max_features={j}\", \"Correctness on the training set: {:.3f}\".format(gbrt.score(X_train, y_train)))\n",
    "            print(f\"max_depth={i}\", \"Correctness on a test set: {:.3f}\".format(gbrt.score(X_test, y_test)))\n",
    "            print()\n",
    "            max_score = gbrt.score(X_test, y_test)"
   ]
  },
  {
   "cell_type": "markdown",
   "metadata": {},
   "source": [
    "### max_features=20, max_depth=7"
   ]
  },
  {
   "cell_type": "code",
   "execution_count": 12,
   "metadata": {
    "scrolled": false
   },
   "outputs": [
    {
     "name": "stdout",
     "output_type": "stream",
     "text": [
      "Correctness on the training set: 0.892\n",
      "Correctness on a test set: 0.707\n"
     ]
    },
    {
     "data": {
      "image/png": "[encoded data removed]",
      "text/plain": [
       "<Figure size 432x288 with 1 Axes>"
      ]
     },
     "metadata": {
      "needs_background": "light"
     },
     "output_type": "display_data"
    }
   ],
   "source": [
    "X_train, X_test, y_train, y_test = train_test_split(\n",
    "data, target, stratify=target, random_state=42)\n",
    "gbrt = GradientBoostingClassifier(max_features=20, max_depth=7, random_state=0)\n",
    "gbrt.fit(X_train, y_train)\n",
    "print(\"Correctness on the training set: {:.3f}\".format(gbrt.score(X_train, y_train)))\n",
    "print(\"Correctness on a test set: {:.3f}\".format(gbrt.score(X_test, y_test)))\n",
    "plot_feature_importances(gbrt)"
   ]
  },
  {
   "cell_type": "markdown",
   "metadata": {},
   "source": [
    "### Confusion matrix"
   ]
  },
  {
   "cell_type": "code",
   "execution_count": 13,
   "metadata": {
    "scrolled": false
   },
   "outputs": [
    {
     "name": "stdout",
     "output_type": "stream",
     "text": [
      "Confusion matrix:\n",
      "[[ 360  230   60]\n",
      " [  85 1338   91]\n",
      " [  70  246  193]]\n"
     ]
    }
   ],
   "source": [
    "from sklearn.metrics import confusion_matrix\n",
    "prediction = gbrt.predict(X_test)\n",
    "confusion = confusion_matrix(y_test, prediction)\n",
    "print(\"Confusion matrix:\\n{}\".format(confusion))"
   ]
  },
  {
   "cell_type": "code",
   "execution_count": 14,
   "metadata": {
    "scrolled": true
   },
   "outputs": [
    {
     "name": "stdout",
     "output_type": "stream",
     "text": [
      "Confusion matrix\n",
      "[[0.55384615 0.35384615 0.09230769]\n",
      " [0.05614267 0.88375165 0.06010568]\n",
      " [0.13752456 0.48330059 0.37917485]]\n"
     ]
    },
    {
     "data": {
      "image/png": "[encoded data removed]",
      "text/plain": [
       "<Figure size 432x288 with 2 Axes>"
      ]
     },
     "metadata": {
      "needs_background": "light"
     },
     "output_type": "display_data"
    }
   ],
   "source": [
    "from sklearn.metrics import plot_confusion_matrix\n",
    "class_names = ('bad', 'good', 'agood')\n",
    "title = \"Confusion matrix\"\n",
    "disp = plot_confusion_matrix(gbrt, X_test, y_test,\n",
    "                                 display_labels=class_names,\n",
    "                                 cmap=plt.cm.Blues,\n",
    "                                 normalize='true'\n",
    "                            )\n",
    "disp.ax_.set_title(title)\n",
    "print(title)\n",
    "print(disp.confusion_matrix)"
   ]
  },
  {
   "cell_type": "markdown",
   "metadata": {},
   "source": [
    "## Обучение с вариацией по трем параметрам: max_depth, max_features, n_estimators"
   ]
  },
  {
   "cell_type": "code",
   "execution_count": 16,
   "metadata": {
    "scrolled": true
   },
   "outputs": [
    {
     "name": "stdout",
     "output_type": "stream",
     "text": [
      ">>> max_depth=1\n",
      "1, 1, 1\n",
      "Correctness on the training set: 0.567\n",
      "Correctness on a test set: 0.566\n",
      "\n",
      "1, 1, 18\n",
      "Correctness on the training set: 0.567\n",
      "Correctness on a test set: 0.567\n",
      "\n",
      "1, 1, 19\n",
      "Correctness on the training set: 0.569\n",
      "Correctness on a test set: 0.569\n",
      "\n",
      "1, 1, 20\n",
      "Correctness on the training set: 0.572\n",
      "Correctness on a test set: 0.571\n",
      "\n",
      "1, 1, 21\n",
      "Correctness on the training set: 0.576\n",
      "Correctness on a test set: 0.573\n",
      "\n",
      "1, 1, 23\n",
      "Correctness on the training set: 0.578\n",
      "Correctness on a test set: 0.575\n",
      "\n",
      "1, 1, 24\n",
      "Correctness on the training set: 0.581\n",
      "Correctness on a test set: 0.577\n",
      "\n",
      "1, 1, 25\n",
      "Correctness on the training set: 0.587\n",
      "Correctness on a test set: 0.584\n",
      "\n",
      "1, 1, 26\n",
      "Correctness on the training set: 0.590\n",
      "Correctness on a test set: 0.587\n",
      "\n",
      "1, 1, 28\n",
      "Correctness on the training set: 0.591\n",
      "Correctness on a test set: 0.591\n",
      "\n",
      "1, 1, 33\n",
      "Correctness on the training set: 0.594\n",
      "Correctness on a test set: 0.595\n",
      "\n",
      "1, 1, 35\n",
      "Correctness on the training set: 0.595\n",
      "Correctness on a test set: 0.596\n",
      "\n",
      "1, 1, 39\n",
      "Correctness on the training set: 0.597\n",
      "Correctness on a test set: 0.596\n",
      "\n",
      "1, 1, 41\n",
      "Correctness on the training set: 0.599\n",
      "Correctness on a test set: 0.597\n",
      "\n",
      "1, 1, 45\n",
      "Correctness on the training set: 0.599\n",
      "Correctness on a test set: 0.598\n",
      "\n",
      "1, 1, 46\n",
      "Correctness on the training set: 0.600\n",
      "Correctness on a test set: 0.599\n",
      "\n",
      "1, 1, 47\n",
      "Correctness on the training set: 0.599\n",
      "Correctness on a test set: 0.599\n",
      "\n",
      "1, 1, 50\n",
      "Correctness on the training set: 0.600\n",
      "Correctness on a test set: 0.600\n",
      "\n",
      "1, 1, 51\n",
      "Correctness on the training set: 0.601\n",
      "Correctness on a test set: 0.601\n",
      "\n",
      "1, 1, 63\n",
      "Correctness on the training set: 0.600\n",
      "Correctness on a test set: 0.601\n",
      "\n",
      "1, 1, 64\n",
      "Correctness on the training set: 0.600\n",
      "Correctness on a test set: 0.602\n",
      "\n",
      "1, 1, 65\n",
      "Correctness on the training set: 0.602\n",
      "Correctness on a test set: 0.602\n",
      "\n",
      "1, 1, 66\n",
      "Correctness on the training set: 0.603\n",
      "Correctness on a test set: 0.603\n",
      "\n",
      "1, 1, 71\n",
      "Correctness on the training set: 0.604\n",
      "Correctness on a test set: 0.603\n",
      "\n",
      "1, 1, 72\n",
      "Correctness on the training set: 0.604\n",
      "Correctness on a test set: 0.604\n",
      "\n",
      "1, 1, 74\n",
      "Correctness on the training set: 0.607\n",
      "Correctness on a test set: 0.607\n",
      "\n",
      "1, 2, 80\n",
      "Correctness on the training set: 0.621\n",
      "Correctness on a test set: 0.609\n",
      "\n",
      "1, 2, 83\n",
      "Correctness on the training set: 0.621\n",
      "Correctness on a test set: 0.609\n",
      "\n",
      "1, 2, 84\n",
      "Correctness on the training set: 0.621\n",
      "Correctness on a test set: 0.611\n",
      "\n",
      "1, 2, 88\n",
      "Correctness on the training set: 0.623\n",
      "Correctness on a test set: 0.611\n",
      "\n",
      "1, 2, 90\n",
      "Correctness on the training set: 0.624\n",
      "Correctness on a test set: 0.612\n",
      "\n",
      "1, 2, 94\n",
      "Correctness on the training set: 0.624\n",
      "Correctness on a test set: 0.613\n",
      "\n",
      "1, 2, 95\n",
      "Correctness on the training set: 0.624\n",
      "Correctness on a test set: 0.615\n",
      "\n",
      "1, 2, 97\n",
      "Correctness on the training set: 0.624\n",
      "Correctness on a test set: 0.616\n",
      "\n",
      "1, 2, 98\n",
      "Correctness on the training set: 0.625\n",
      "Correctness on a test set: 0.618\n",
      "\n",
      "1, 2, 99\n",
      "Correctness on the training set: 0.625\n",
      "Correctness on a test set: 0.618\n",
      "\n",
      "1, 3, 81\n",
      "Correctness on the training set: 0.627\n",
      "Correctness on a test set: 0.619\n",
      "\n",
      "1, 3, 82\n",
      "Correctness on the training set: 0.628\n",
      "Correctness on a test set: 0.622\n",
      "\n",
      "1, 3, 85\n",
      "Correctness on the training set: 0.631\n",
      "Correctness on a test set: 0.625\n",
      "\n",
      "1, 3, 86\n",
      "Correctness on the training set: 0.629\n",
      "Correctness on a test set: 0.626\n",
      "\n",
      "1, 3, 88\n",
      "Correctness on the training set: 0.631\n",
      "Correctness on a test set: 0.626\n",
      "\n",
      "1, 3, 92\n",
      "Correctness on the training set: 0.630\n",
      "Correctness on a test set: 0.627\n",
      "\n",
      "1, 3, 98\n",
      "Correctness on the training set: 0.633\n",
      "Correctness on a test set: 0.629\n",
      "\n",
      "1, 4, 83\n",
      "Correctness on the training set: 0.634\n",
      "Correctness on a test set: 0.629\n",
      "\n",
      "1, 4, 87\n",
      "Correctness on the training set: 0.633\n",
      "Correctness on a test set: 0.630\n",
      "\n",
      "1, 4, 91\n",
      "Correctness on the training set: 0.636\n",
      "Correctness on a test set: 0.631\n",
      "\n",
      "1, 4, 94\n",
      "Correctness on the training set: 0.638\n",
      "Correctness on a test set: 0.632\n",
      "\n",
      "1, 4, 95\n",
      "Correctness on the training set: 0.639\n",
      "Correctness on a test set: 0.633\n",
      "\n",
      "1, 4, 98\n",
      "Correctness on the training set: 0.639\n",
      "Correctness on a test set: 0.633\n",
      "\n",
      "1, 5, 87\n",
      "Correctness on the training set: 0.639\n",
      "Correctness on a test set: 0.633\n",
      "\n",
      "1, 5, 96\n",
      "Correctness on the training set: 0.641\n",
      "Correctness on a test set: 0.634\n",
      "\n",
      "1, 5, 97\n",
      "Correctness on the training set: 0.642\n",
      "Correctness on a test set: 0.635\n",
      "\n",
      "1, 7, 68\n",
      "Correctness on the training set: 0.641\n",
      "Correctness on a test set: 0.636\n",
      "\n",
      "1, 7, 71\n",
      "Correctness on the training set: 0.642\n",
      "Correctness on a test set: 0.636\n",
      "\n",
      "1, 7, 84\n",
      "Correctness on the training set: 0.646\n",
      "Correctness on a test set: 0.637\n",
      "\n",
      "1, 7, 92\n",
      "Correctness on the training set: 0.645\n",
      "Correctness on a test set: 0.639\n",
      "\n",
      "1, 8, 70\n",
      "Correctness on the training set: 0.643\n",
      "Correctness on a test set: 0.639\n",
      "\n",
      "1, 8, 79\n",
      "Correctness on the training set: 0.644\n",
      "Correctness on a test set: 0.639\n",
      "\n",
      "1, 8, 80\n",
      "Correctness on the training set: 0.644\n",
      "Correctness on a test set: 0.640\n",
      "\n",
      "1, 8, 87\n",
      "Correctness on the training set: 0.645\n",
      "Correctness on a test set: 0.640\n",
      "\n",
      ">>> max_depth=2\n",
      "2, 1, 91\n",
      "Correctness on the training set: 0.653\n",
      "Correctness on a test set: 0.641\n",
      "\n",
      "2, 1, 94\n",
      "Correctness on the training set: 0.654\n",
      "Correctness on a test set: 0.641\n",
      "\n",
      "2, 1, 99\n",
      "Correctness on the training set: 0.655\n",
      "Correctness on a test set: 0.642\n",
      "\n",
      "2, 2, 63\n",
      "Correctness on the training set: 0.652\n",
      "Correctness on a test set: 0.643\n",
      "\n",
      "2, 2, 65\n",
      "Correctness on the training set: 0.652\n",
      "Correctness on a test set: 0.643\n",
      "\n",
      "2, 2, 66\n",
      "Correctness on the training set: 0.653\n",
      "Correctness on a test set: 0.643\n",
      "\n",
      "2, 2, 68\n",
      "Correctness on the training set: 0.654\n",
      "Correctness on a test set: 0.645\n",
      "\n",
      "2, 2, 69\n",
      "Correctness on the training set: 0.654\n",
      "Correctness on a test set: 0.646\n",
      "\n",
      "2, 2, 74\n",
      "Correctness on the training set: 0.658\n",
      "Correctness on a test set: 0.647\n",
      "\n",
      "2, 2, 77\n",
      "Correctness on the training set: 0.658\n",
      "Correctness on a test set: 0.648\n",
      "\n",
      "2, 2, 78\n",
      "Correctness on the training set: 0.658\n",
      "Correctness on a test set: 0.649\n",
      "\n",
      "2, 2, 79\n",
      "Correctness on the training set: 0.658\n",
      "Correctness on a test set: 0.651\n",
      "\n",
      "2, 2, 81\n",
      "Correctness on the training set: 0.657\n",
      "Correctness on a test set: 0.652\n",
      "\n",
      "2, 2, 84\n",
      "Correctness on the training set: 0.659\n",
      "Correctness on a test set: 0.653\n",
      "\n",
      "2, 2, 86\n",
      "Correctness on the training set: 0.660\n",
      "Correctness on a test set: 0.654\n",
      "\n",
      "2, 2, 89\n",
      "Correctness on the training set: 0.663\n",
      "Correctness on a test set: 0.656\n",
      "\n",
      "2, 2, 92\n",
      "Correctness on the training set: 0.663\n",
      "Correctness on a test set: 0.656\n",
      "\n",
      "2, 2, 93\n",
      "Correctness on the training set: 0.664\n",
      "Correctness on a test set: 0.657\n",
      "\n",
      "2, 2, 99\n",
      "Correctness on the training set: 0.666\n",
      "Correctness on a test set: 0.658\n",
      "\n",
      "2, 3, 77\n",
      "Correctness on the training set: 0.671\n",
      "Correctness on a test set: 0.658\n",
      "\n",
      "2, 3, 78\n",
      "Correctness on the training set: 0.671\n",
      "Correctness on a test set: 0.659\n",
      "\n",
      "2, 3, 80\n",
      "Correctness on the training set: 0.672\n",
      "Correctness on a test set: 0.660\n",
      "\n",
      "2, 3, 84\n",
      "Correctness on the training set: 0.673\n",
      "Correctness on a test set: 0.661\n",
      "\n",
      "2, 3, 86\n",
      "Correctness on the training set: 0.673\n",
      "Correctness on a test set: 0.661\n",
      "\n",
      "2, 3, 87\n",
      "Correctness on the training set: 0.673\n",
      "Correctness on a test set: 0.661\n",
      "\n",
      "2, 3, 94\n",
      "Correctness on the training set: 0.676\n",
      "Correctness on a test set: 0.662\n",
      "\n",
      "2, 5, 83\n",
      "Correctness on the training set: 0.674\n",
      "Correctness on a test set: 0.663\n",
      "\n",
      "2, 5, 84\n",
      "Correctness on the training set: 0.675\n",
      "Correctness on a test set: 0.663\n",
      "\n",
      "2, 5, 88\n",
      "Correctness on the training set: 0.675\n",
      "Correctness on a test set: 0.664\n",
      "\n",
      "2, 5, 89\n",
      "Correctness on the training set: 0.676\n",
      "Correctness on a test set: 0.664\n",
      "\n",
      "2, 5, 90\n",
      "Correctness on the training set: 0.676\n",
      "Correctness on a test set: 0.665\n",
      "\n",
      "2, 5, 92\n",
      "Correctness on the training set: 0.676\n",
      "Correctness on a test set: 0.666\n",
      "\n",
      "2, 5, 96\n",
      "Correctness on the training set: 0.678\n",
      "Correctness on a test set: 0.666\n",
      "\n",
      "2, 5, 97\n",
      "Correctness on the training set: 0.678\n",
      "Correctness on a test set: 0.667\n",
      "\n",
      "2, 5, 99\n",
      "Correctness on the training set: 0.679\n",
      "Correctness on a test set: 0.668\n",
      "\n",
      "2, 8, 96\n",
      "Correctness on the training set: 0.679\n",
      "Correctness on a test set: 0.669\n",
      "\n",
      "2, 8, 99\n",
      "Correctness on the training set: 0.679\n",
      "Correctness on a test set: 0.669\n",
      "\n",
      ">>> max_depth=3\n",
      "3, 2, 79\n",
      "Correctness on the training set: 0.686\n",
      "Correctness on a test set: 0.669\n",
      "\n",
      "3, 2, 80\n",
      "Correctness on the training set: 0.686\n",
      "Correctness on a test set: 0.670\n",
      "\n",
      "3, 2, 81\n",
      "Correctness on the training set: 0.686\n",
      "Correctness on a test set: 0.671\n",
      "\n"
     ]
    },
    {
     "name": "stdout",
     "output_type": "stream",
     "text": [
      "3, 2, 82\n",
      "Correctness on the training set: 0.687\n",
      "Correctness on a test set: 0.671\n",
      "\n",
      "3, 2, 83\n",
      "Correctness on the training set: 0.688\n",
      "Correctness on a test set: 0.672\n",
      "\n",
      "3, 2, 86\n",
      "Correctness on the training set: 0.689\n",
      "Correctness on a test set: 0.673\n",
      "\n",
      "3, 2, 92\n",
      "Correctness on the training set: 0.690\n",
      "Correctness on a test set: 0.673\n",
      "\n",
      "3, 2, 96\n",
      "Correctness on the training set: 0.692\n",
      "Correctness on a test set: 0.676\n",
      "\n",
      "3, 2, 97\n",
      "Correctness on the training set: 0.692\n",
      "Correctness on a test set: 0.676\n",
      "\n",
      "3, 3, 93\n",
      "Correctness on the training set: 0.695\n",
      "Correctness on a test set: 0.676\n",
      "\n",
      "3, 3, 97\n",
      "Correctness on the training set: 0.696\n",
      "Correctness on a test set: 0.677\n",
      "\n",
      "3, 3, 98\n",
      "Correctness on the training set: 0.697\n",
      "Correctness on a test set: 0.677\n",
      "\n",
      "3, 3, 99\n",
      "Correctness on the training set: 0.697\n",
      "Correctness on a test set: 0.678\n",
      "\n",
      "3, 4, 98\n",
      "Correctness on the training set: 0.702\n",
      "Correctness on a test set: 0.678\n",
      "\n",
      "3, 4, 99\n",
      "Correctness on the training set: 0.702\n",
      "Correctness on a test set: 0.679\n",
      "\n",
      "3, 5, 80\n",
      "Correctness on the training set: 0.697\n",
      "Correctness on a test set: 0.679\n",
      "\n",
      "3, 5, 82\n",
      "Correctness on the training set: 0.697\n",
      "Correctness on a test set: 0.679\n",
      "\n",
      "3, 5, 86\n",
      "Correctness on the training set: 0.698\n",
      "Correctness on a test set: 0.680\n",
      "\n",
      "3, 5, 87\n",
      "Correctness on the training set: 0.699\n",
      "Correctness on a test set: 0.680\n",
      "\n",
      "3, 5, 88\n",
      "Correctness on the training set: 0.699\n",
      "Correctness on a test set: 0.681\n",
      "\n",
      "3, 5, 95\n",
      "Correctness on the training set: 0.701\n",
      "Correctness on a test set: 0.681\n",
      "\n",
      "3, 6, 75\n",
      "Correctness on the training set: 0.697\n",
      "Correctness on a test set: 0.682\n",
      "\n",
      "3, 6, 77\n",
      "Correctness on the training set: 0.698\n",
      "Correctness on a test set: 0.682\n",
      "\n",
      "3, 6, 80\n",
      "Correctness on the training set: 0.698\n",
      "Correctness on a test set: 0.682\n",
      "\n",
      "3, 6, 81\n",
      "Correctness on the training set: 0.699\n",
      "Correctness on a test set: 0.683\n",
      "\n",
      "3, 6, 85\n",
      "Correctness on the training set: 0.701\n",
      "Correctness on a test set: 0.684\n",
      "\n",
      "3, 6, 89\n",
      "Correctness on the training set: 0.702\n",
      "Correctness on a test set: 0.684\n",
      "\n",
      "3, 6, 90\n",
      "Correctness on the training set: 0.702\n",
      "Correctness on a test set: 0.685\n",
      "\n",
      "3, 24, 88\n",
      "Correctness on the training set: 0.710\n",
      "Correctness on a test set: 0.685\n",
      "\n",
      "3, 24, 90\n",
      "Correctness on the training set: 0.710\n",
      "Correctness on a test set: 0.685\n",
      "\n",
      ">>> max_depth=4\n",
      "4, 3, 78\n",
      "Correctness on the training set: 0.715\n",
      "Correctness on a test set: 0.686\n",
      "\n",
      "4, 3, 84\n",
      "Correctness on the training set: 0.718\n",
      "Correctness on a test set: 0.688\n",
      "\n",
      "4, 3, 85\n",
      "Correctness on the training set: 0.718\n",
      "Correctness on a test set: 0.688\n",
      "\n",
      "4, 3, 87\n",
      "Correctness on the training set: 0.718\n",
      "Correctness on a test set: 0.689\n",
      "\n",
      "4, 4, 96\n",
      "Correctness on the training set: 0.723\n",
      "Correctness on a test set: 0.691\n",
      "\n",
      "4, 5, 99\n",
      "Correctness on the training set: 0.724\n",
      "Correctness on a test set: 0.691\n",
      "\n",
      "4, 6, 80\n",
      "Correctness on the training set: 0.722\n",
      "Correctness on a test set: 0.692\n",
      "\n",
      "4, 6, 90\n",
      "Correctness on the training set: 0.727\n",
      "Correctness on a test set: 0.692\n",
      "\n",
      "4, 6, 91\n",
      "Correctness on the training set: 0.727\n",
      "Correctness on a test set: 0.693\n",
      "\n",
      "4, 14, 82\n",
      "Correctness on the training set: 0.730\n",
      "Correctness on a test set: 0.694\n",
      "\n",
      "4, 14, 84\n",
      "Correctness on the training set: 0.732\n",
      "Correctness on a test set: 0.694\n",
      "\n",
      "4, 14, 86\n",
      "Correctness on the training set: 0.733\n",
      "Correctness on a test set: 0.695\n",
      "\n",
      "4, 15, 77\n",
      "Correctness on the training set: 0.733\n",
      "Correctness on a test set: 0.695\n",
      "\n",
      "4, 15, 78\n",
      "Correctness on the training set: 0.733\n",
      "Correctness on a test set: 0.697\n",
      "\n",
      ">>> max_depth=5\n",
      "5, 7, 73\n",
      "Correctness on the training set: 0.754\n",
      "Correctness on a test set: 0.697\n",
      "\n",
      "5, 7, 87\n",
      "Correctness on the training set: 0.763\n",
      "Correctness on a test set: 0.698\n",
      "\n",
      "5, 7, 88\n",
      "Correctness on the training set: 0.763\n",
      "Correctness on a test set: 0.698\n",
      "\n",
      "5, 8, 59\n",
      "Correctness on the training set: 0.747\n",
      "Correctness on a test set: 0.699\n",
      "\n",
      "5, 8, 63\n",
      "Correctness on the training set: 0.750\n",
      "Correctness on a test set: 0.700\n",
      "\n",
      "5, 8, 72\n",
      "Correctness on the training set: 0.756\n",
      "Correctness on a test set: 0.700\n",
      "\n",
      "5, 8, 74\n",
      "Correctness on the training set: 0.759\n",
      "Correctness on a test set: 0.701\n",
      "\n",
      "5, 11, 95\n",
      "Correctness on the training set: 0.773\n",
      "Correctness on a test set: 0.701\n",
      "\n",
      "5, 11, 97\n",
      "Correctness on the training set: 0.775\n",
      "Correctness on a test set: 0.702\n",
      "\n",
      ">>> max_depth=6\n",
      "6, 3, 68\n",
      "Correctness on the training set: 0.770\n",
      "Correctness on a test set: 0.702\n",
      "\n",
      "6, 3, 69\n",
      "Correctness on the training set: 0.771\n",
      "Correctness on a test set: 0.704\n",
      "\n",
      "6, 3, 71\n",
      "Correctness on the training set: 0.773\n",
      "Correctness on a test set: 0.705\n",
      "\n",
      ">>> max_depth=7\n",
      "7, 5, 64\n",
      "Correctness on the training set: 0.822\n",
      "Correctness on a test set: 0.706\n",
      "\n",
      "7, 13, 84\n",
      "Correctness on the training set: 0.866\n",
      "Correctness on a test set: 0.706\n",
      "\n",
      "7, 13, 95\n",
      "Correctness on the training set: 0.879\n",
      "Correctness on a test set: 0.708\n",
      "\n",
      "7, 15, 38\n",
      "Correctness on the training set: 0.811\n",
      "Correctness on a test set: 0.708\n",
      "\n"
     ]
    },
    {
     "ename": "KeyboardInterrupt",
     "evalue": "",
     "output_type": "error",
     "traceback": [
      "\u001b[0;31m---------------------------------------------------------------------------\u001b[0m",
      "\u001b[0;31mKeyboardInterrupt\u001b[0m                         Traceback (most recent call last)",
      "\u001b[0;32m<ipython-input-16-12f5893c37d0>\u001b[0m in \u001b[0;36m<module>\u001b[0;34m\u001b[0m\n\u001b[1;32m      7\u001b[0m         \u001b[0;32mfor\u001b[0m \u001b[0mk\u001b[0m \u001b[0;32min\u001b[0m \u001b[0mrange\u001b[0m\u001b[0;34m(\u001b[0m\u001b[0;36m1\u001b[0m\u001b[0;34m,\u001b[0m \u001b[0;36m100\u001b[0m\u001b[0;34m)\u001b[0m\u001b[0;34m:\u001b[0m\u001b[0;34m\u001b[0m\u001b[0;34m\u001b[0m\u001b[0m\n\u001b[1;32m      8\u001b[0m             \u001b[0mgbrt\u001b[0m \u001b[0;34m=\u001b[0m \u001b[0mGradientBoostingClassifier\u001b[0m\u001b[0;34m(\u001b[0m\u001b[0mmax_depth\u001b[0m\u001b[0;34m=\u001b[0m\u001b[0mi\u001b[0m\u001b[0;34m,\u001b[0m \u001b[0mmax_features\u001b[0m\u001b[0;34m=\u001b[0m\u001b[0mj\u001b[0m\u001b[0;34m,\u001b[0m \u001b[0mn_estimators\u001b[0m\u001b[0;34m=\u001b[0m\u001b[0mk\u001b[0m\u001b[0;34m,\u001b[0m \u001b[0mrandom_state\u001b[0m\u001b[0;34m=\u001b[0m\u001b[0;36m0\u001b[0m\u001b[0;34m)\u001b[0m\u001b[0;34m\u001b[0m\u001b[0;34m\u001b[0m\u001b[0m\n\u001b[0;32m----> 9\u001b[0;31m             \u001b[0mgbrt\u001b[0m\u001b[0;34m.\u001b[0m\u001b[0mfit\u001b[0m\u001b[0;34m(\u001b[0m\u001b[0mX_train\u001b[0m\u001b[0;34m,\u001b[0m \u001b[0my_train\u001b[0m\u001b[0;34m)\u001b[0m\u001b[0;34m\u001b[0m\u001b[0;34m\u001b[0m\u001b[0m\n\u001b[0m\u001b[1;32m     10\u001b[0m             \u001b[0;32mif\u001b[0m \u001b[0mmax_score\u001b[0m \u001b[0;34m<\u001b[0m \u001b[0mgbrt\u001b[0m\u001b[0;34m.\u001b[0m\u001b[0mscore\u001b[0m\u001b[0;34m(\u001b[0m\u001b[0mX_test\u001b[0m\u001b[0;34m,\u001b[0m \u001b[0my_test\u001b[0m\u001b[0;34m)\u001b[0m\u001b[0;34m:\u001b[0m\u001b[0;34m\u001b[0m\u001b[0;34m\u001b[0m\u001b[0m\n\u001b[1;32m     11\u001b[0m                 \u001b[0mprint\u001b[0m\u001b[0;34m(\u001b[0m\u001b[0;34mf\"{i}, {j}, {k}\"\u001b[0m\u001b[0;34m)\u001b[0m\u001b[0;34m\u001b[0m\u001b[0;34m\u001b[0m\u001b[0m\n",
      "\u001b[0;32m~/AI-training-task-classification/venv/lib/python3.6/site-packages/sklearn/ensemble/_gb.py\u001b[0m in \u001b[0;36mfit\u001b[0;34m(self, X, y, sample_weight, monitor)\u001b[0m\n\u001b[1;32m    504\u001b[0m         n_stages = self._fit_stages(\n\u001b[1;32m    505\u001b[0m             \u001b[0mX\u001b[0m\u001b[0;34m,\u001b[0m \u001b[0my\u001b[0m\u001b[0;34m,\u001b[0m \u001b[0mraw_predictions\u001b[0m\u001b[0;34m,\u001b[0m \u001b[0msample_weight\u001b[0m\u001b[0;34m,\u001b[0m \u001b[0mself\u001b[0m\u001b[0;34m.\u001b[0m\u001b[0m_rng\u001b[0m\u001b[0;34m,\u001b[0m \u001b[0mX_val\u001b[0m\u001b[0;34m,\u001b[0m \u001b[0my_val\u001b[0m\u001b[0;34m,\u001b[0m\u001b[0;34m\u001b[0m\u001b[0;34m\u001b[0m\u001b[0m\n\u001b[0;32m--> 506\u001b[0;31m             sample_weight_val, begin_at_stage, monitor)\n\u001b[0m\u001b[1;32m    507\u001b[0m \u001b[0;34m\u001b[0m\u001b[0m\n\u001b[1;32m    508\u001b[0m         \u001b[0;31m# change shape of arrays after fit (early-stopping or additional ests)\u001b[0m\u001b[0;34m\u001b[0m\u001b[0;34m\u001b[0m\u001b[0;34m\u001b[0m\u001b[0m\n",
      "\u001b[0;32m~/AI-training-task-classification/venv/lib/python3.6/site-packages/sklearn/ensemble/_gb.py\u001b[0m in \u001b[0;36m_fit_stages\u001b[0;34m(self, X, y, raw_predictions, sample_weight, random_state, X_val, y_val, sample_weight_val, begin_at_stage, monitor)\u001b[0m\n\u001b[1;32m    561\u001b[0m             raw_predictions = self._fit_stage(\n\u001b[1;32m    562\u001b[0m                 \u001b[0mi\u001b[0m\u001b[0;34m,\u001b[0m \u001b[0mX\u001b[0m\u001b[0;34m,\u001b[0m \u001b[0my\u001b[0m\u001b[0;34m,\u001b[0m \u001b[0mraw_predictions\u001b[0m\u001b[0;34m,\u001b[0m \u001b[0msample_weight\u001b[0m\u001b[0;34m,\u001b[0m \u001b[0msample_mask\u001b[0m\u001b[0;34m,\u001b[0m\u001b[0;34m\u001b[0m\u001b[0;34m\u001b[0m\u001b[0m\n\u001b[0;32m--> 563\u001b[0;31m                 random_state, X_csc, X_csr)\n\u001b[0m\u001b[1;32m    564\u001b[0m \u001b[0;34m\u001b[0m\u001b[0m\n\u001b[1;32m    565\u001b[0m             \u001b[0;31m# track deviance (= loss)\u001b[0m\u001b[0;34m\u001b[0m\u001b[0;34m\u001b[0m\u001b[0;34m\u001b[0m\u001b[0m\n",
      "\u001b[0;32m~/AI-training-task-classification/venv/lib/python3.6/site-packages/sklearn/ensemble/_gb.py\u001b[0m in \u001b[0;36m_fit_stage\u001b[0;34m(self, i, X, y, raw_predictions, sample_weight, sample_mask, random_state, X_csc, X_csr)\u001b[0m\n\u001b[1;32m    213\u001b[0m             \u001b[0mX\u001b[0m \u001b[0;34m=\u001b[0m \u001b[0mX_csr\u001b[0m \u001b[0;32mif\u001b[0m \u001b[0mX_csr\u001b[0m \u001b[0;32mis\u001b[0m \u001b[0;32mnot\u001b[0m \u001b[0;32mNone\u001b[0m \u001b[0;32melse\u001b[0m \u001b[0mX\u001b[0m\u001b[0;34m\u001b[0m\u001b[0;34m\u001b[0m\u001b[0m\n\u001b[1;32m    214\u001b[0m             tree.fit(X, residual, sample_weight=sample_weight,\n\u001b[0;32m--> 215\u001b[0;31m                      check_input=False)\n\u001b[0m\u001b[1;32m    216\u001b[0m \u001b[0;34m\u001b[0m\u001b[0m\n\u001b[1;32m    217\u001b[0m             \u001b[0;31m# update tree leaves\u001b[0m\u001b[0;34m\u001b[0m\u001b[0;34m\u001b[0m\u001b[0;34m\u001b[0m\u001b[0m\n",
      "\u001b[0;32m~/AI-training-task-classification/venv/lib/python3.6/site-packages/sklearn/tree/_classes.py\u001b[0m in \u001b[0;36mfit\u001b[0;34m(self, X, y, sample_weight, check_input, X_idx_sorted)\u001b[0m\n\u001b[1;32m   1254\u001b[0m             \u001b[0msample_weight\u001b[0m\u001b[0;34m=\u001b[0m\u001b[0msample_weight\u001b[0m\u001b[0;34m,\u001b[0m\u001b[0;34m\u001b[0m\u001b[0;34m\u001b[0m\u001b[0m\n\u001b[1;32m   1255\u001b[0m             \u001b[0mcheck_input\u001b[0m\u001b[0;34m=\u001b[0m\u001b[0mcheck_input\u001b[0m\u001b[0;34m,\u001b[0m\u001b[0;34m\u001b[0m\u001b[0;34m\u001b[0m\u001b[0m\n\u001b[0;32m-> 1256\u001b[0;31m             X_idx_sorted=X_idx_sorted)\n\u001b[0m\u001b[1;32m   1257\u001b[0m         \u001b[0;32mreturn\u001b[0m \u001b[0mself\u001b[0m\u001b[0;34m\u001b[0m\u001b[0;34m\u001b[0m\u001b[0m\n\u001b[1;32m   1258\u001b[0m \u001b[0;34m\u001b[0m\u001b[0m\n",
      "\u001b[0;32m~/AI-training-task-classification/venv/lib/python3.6/site-packages/sklearn/tree/_classes.py\u001b[0m in \u001b[0;36mfit\u001b[0;34m(self, X, y, sample_weight, check_input, X_idx_sorted)\u001b[0m\n\u001b[1;32m    392\u001b[0m                                            min_impurity_split)\n\u001b[1;32m    393\u001b[0m \u001b[0;34m\u001b[0m\u001b[0m\n\u001b[0;32m--> 394\u001b[0;31m         \u001b[0mbuilder\u001b[0m\u001b[0;34m.\u001b[0m\u001b[0mbuild\u001b[0m\u001b[0;34m(\u001b[0m\u001b[0mself\u001b[0m\u001b[0;34m.\u001b[0m\u001b[0mtree_\u001b[0m\u001b[0;34m,\u001b[0m \u001b[0mX\u001b[0m\u001b[0;34m,\u001b[0m \u001b[0my\u001b[0m\u001b[0;34m,\u001b[0m \u001b[0msample_weight\u001b[0m\u001b[0;34m)\u001b[0m\u001b[0;34m\u001b[0m\u001b[0;34m\u001b[0m\u001b[0m\n\u001b[0m\u001b[1;32m    395\u001b[0m \u001b[0;34m\u001b[0m\u001b[0m\n\u001b[1;32m    396\u001b[0m         \u001b[0;32mif\u001b[0m \u001b[0mself\u001b[0m\u001b[0;34m.\u001b[0m\u001b[0mn_outputs_\u001b[0m \u001b[0;34m==\u001b[0m \u001b[0;36m1\u001b[0m \u001b[0;32mand\u001b[0m \u001b[0mis_classifier\u001b[0m\u001b[0;34m(\u001b[0m\u001b[0mself\u001b[0m\u001b[0;34m)\u001b[0m\u001b[0;34m:\u001b[0m\u001b[0;34m\u001b[0m\u001b[0;34m\u001b[0m\u001b[0m\n",
      "\u001b[0;31mKeyboardInterrupt\u001b[0m: "
     ]
    }
   ],
   "source": [
    "X_train, X_test, y_train, y_test = train_test_split(\n",
    "data, target, stratify=target, random_state=42)\n",
    "max_score = 0\n",
    "for i in range(1,30):\n",
    "    print(f\">>> max_depth={i}\")\n",
    "    for j in range(1,26):\n",
    "        for k in range(1, 100):\n",
    "            gbrt = GradientBoostingClassifier(max_depth=i, max_features=j, n_estimators=k, random_state=0)\n",
    "            gbrt.fit(X_train, y_train)\n",
    "            if max_score < gbrt.score(X_test, y_test):\n",
    "                print(f\"{i}, {j}, {k}\")\n",
    "                print(\"Correctness on the training set: {:.3f}\".format(gbrt.score(X_train, y_train)))\n",
    "                print(\"Correctness on a test set: {:.3f}\".format(gbrt.score(X_test, y_test)))\n",
    "                print()\n",
    "                max_score = gbrt.score(X_test, y_test)"
   ]
  },
  {
   "cell_type": "markdown",
   "metadata": {},
   "source": [
    "### max_depth=5, max_features=25, n_estimators=61"
   ]
  },
  {
   "cell_type": "code",
   "execution_count": 17,
   "metadata": {
    "scrolled": false
   },
   "outputs": [
    {
     "name": "stdout",
     "output_type": "stream",
     "text": [
      "Correctness on the training set: 0.809\n",
      "Correctness on a test set: 0.697\n"
     ]
    },
    {
     "data": {
      "image/png": "[encoded data removed]",
      "text/plain": [
       "<Figure size 432x288 with 1 Axes>"
      ]
     },
     "metadata": {
      "needs_background": "light"
     },
     "output_type": "display_data"
    }
   ],
   "source": [
    "X_train, X_test, y_train, y_test = train_test_split(\n",
    "data, target, stratify=target, random_state=42)\n",
    "gbrt = GradientBoostingClassifier(max_depth=5, max_features=25, n_estimators=61, random_state=0)\n",
    "gbrt.fit(X_train, y_train)\n",
    "print(\"Correctness on the training set: {:.3f}\".format(gbrt.score(X_train, y_train)))\n",
    "print(\"Correctness on a test set: {:.3f}\".format(gbrt.score(X_test, y_test)))\n",
    "plot_feature_importances(gbrt)"
   ]
  },
  {
   "cell_type": "markdown",
   "metadata": {},
   "source": [
    "### Confusion matrix"
   ]
  },
  {
   "cell_type": "code",
   "execution_count": 12,
   "metadata": {
    "scrolled": false
   },
   "outputs": [
    {
     "name": "stdout",
     "output_type": "stream",
     "text": [
      "Confusion matrix:\n",
      "[[319 127   4]\n",
      " [ 91 591   7]\n",
      " [ 72  55  18]]\n"
     ]
    }
   ],
   "source": [
    "from sklearn.metrics import confusion_matrix\n",
    "prediction = gbrt.predict(X_test)\n",
    "confusion = confusion_matrix(y_test, prediction)\n",
    "print(\"Confusion matrix:\\n{}\".format(confusion))"
   ]
  },
  {
   "cell_type": "code",
   "execution_count": 14,
   "metadata": {},
   "outputs": [
    {
     "name": "stdout",
     "output_type": "stream",
     "text": [
      "Confusion matrix\n",
      "[[0.69020501 0.30523918 0.00455581]\n",
      " [0.13722628 0.86131387 0.00145985]\n",
      " [0.6375     0.3375     0.025     ]]\n"
     ]
    },
    {
     "data": {
      "image/png": "[encoded data removed]",
      "text/plain": [
       "<Figure size 432x288 with 2 Axes>"
      ]
     },
     "metadata": {
      "needs_background": "light"
     },
     "output_type": "display_data"
    }
   ],
   "source": [
    "from sklearn.metrics import plot_confusion_matrix\n",
    "class_names = ('bad', 'good', 'agood')\n",
    "title = \"Confusion matrix\"\n",
    "disp = plot_confusion_matrix(gbrt, X_test, y_test,\n",
    "                                 display_labels=class_names,\n",
    "                                 cmap=plt.cm.Blues,\n",
    "                                 normalize='true'\n",
    "                            )\n",
    "disp.ax_.set_title(title)\n",
    "print(title)\n",
    "print(disp.confusion_matrix)"
   ]
  },
  {
   "cell_type": "markdown",
   "metadata": {},
   "source": [
    "## Сохранение и загрузка обученных моделей"
   ]
  },
  {
   "cell_type": "markdown",
   "metadata": {},
   "source": [
    "# Save model"
   ]
  },
  {
   "cell_type": "code",
   "execution_count": 18,
   "metadata": {},
   "outputs": [],
   "source": [
    "import pickle\n",
    "# save the model to disk\n",
    "filename = ROOT_DIR + '/Data/Models/gbrt_validation_model.sav'\n",
    "pickle.dump(gbrt, open(filename, 'wb'))"
   ]
  },
  {
   "cell_type": "markdown",
   "metadata": {},
   "source": [
    "После обработки данные сохраняются в директории **Data/Models/gbrt_validation_model.sav** в файл."
   ]
  },
  {
   "cell_type": "markdown",
   "metadata": {},
   "source": [
    "# Load model"
   ]
  },
  {
   "cell_type": "code",
   "execution_count": 19,
   "metadata": {
    "scrolled": true
   },
   "outputs": [
    {
     "name": "stdout",
     "output_type": "stream",
     "text": [
      "0.6970404984423676\n"
     ]
    }
   ],
   "source": [
    "# load the model from disk\n",
    "filemane = ROOT_DIR + '/Data/Models/gbrt_validation_model.sav'\n",
    "loaded_model = pickle.load(open(filename, 'rb'))\n",
    "result = loaded_model.score(X_test, y_test)\n",
    "print(result)"
   ]
  },
  {
   "cell_type": "code",
   "execution_count": null,
   "metadata": {},
   "outputs": [],
   "source": []
  }
 ],
 "metadata": {
  "kernelspec": {
   "display_name": "Python 3",
   "language": "python",
   "name": "python3"
  },
  "language_info": {
   "codemirror_mode": {
    "name": "ipython",
    "version": 3
   },
   "file_extension": ".py",
   "mimetype": "text/x-python",
   "name": "python",
   "nbconvert_exporter": "python",
   "pygments_lexer": "ipython3",
   "version": "3.6.9"
  }
 },
 "nbformat": 4,
 "nbformat_minor": 1
}
