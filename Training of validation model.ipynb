{
 "cells": [
  {
   "cell_type": "markdown",
   "metadata": {
    "pycharm": {
     "name": "#%%\n"
    }
   },
   "source": [
    "# GradientBoostingClassifier for 3 variant validation (27 parameters)"
   ]
  },
  {
   "cell_type": "markdown",
   "metadata": {},
   "source": [
    "### Обучение модели валидации задач по Bad/Good/Agood"
   ]
  },
  {
   "cell_type": "code",
   "execution_count": 1,
   "metadata": {
    "pycharm": {
     "name": "#%%\n"
    }
   },
   "outputs": [],
   "source": [
    "import pandas as pd\n",
    "from sklearn.ensemble import GradientBoostingClassifier\n",
    "from sklearn.model_selection import train_test_split\n",
    "import matplotlib.pyplot as plt\n",
    "import json\n",
    "import numpy as np\n",
    "from definitions import ROOT_DIR"
   ]
  },
  {
   "cell_type": "code",
   "execution_count": 2,
   "metadata": {},
   "outputs": [],
   "source": [
    "with open(ROOT_DIR + \"/Data/training_validation_dataset.json\", \"r\") as n:\n",
    "            n = json.load(n)"
   ]
  },
  {
   "cell_type": "code",
   "execution_count": 3,
   "metadata": {},
   "outputs": [],
   "source": [
    "data = pd.Series(n['data'])"
   ]
  },
  {
   "cell_type": "code",
   "execution_count": 4,
   "metadata": {},
   "outputs": [],
   "source": [
    "target = pd.Series(n['target'])"
   ]
  },
  {
   "cell_type": "code",
   "execution_count": 5,
   "metadata": {},
   "outputs": [
    {
     "data": {
      "text/plain": [
       "((10691,), (10691,))"
      ]
     },
     "execution_count": 5,
     "metadata": {},
     "output_type": "execute_result"
    }
   ],
   "source": [
    "data.shape, target.shape"
   ]
  },
  {
   "cell_type": "code",
   "execution_count": 6,
   "metadata": {},
   "outputs": [],
   "source": [
    "data = np.asarray(n['data'], dtype=np.int32)\n",
    "target = np.asarray(n['target'], dtype=np.int32)"
   ]
  },
  {
   "cell_type": "code",
   "execution_count": 7,
   "metadata": {},
   "outputs": [
    {
     "data": {
      "text/plain": [
       "((10691, 27), (10691,))"
      ]
     },
     "execution_count": 7,
     "metadata": {},
     "output_type": "execute_result"
    }
   ],
   "source": [
    "data.shape, target.shape"
   ]
  },
  {
   "cell_type": "code",
   "execution_count": 8,
   "metadata": {},
   "outputs": [],
   "source": [
    "token_name_list = [\n",
    "    'ADJ', \n",
    "    'ADP',\n",
    "    'ADV',\n",
    "    'AUX',\n",
    "    'CCONJ',\n",
    "    'DET',\n",
    "    'INTJ',\n",
    "    'NOUN',\n",
    "    'NUM',\n",
    "    'PART',\n",
    "    'PRON',\n",
    "    'PROPN',\n",
    "    'PUNCT',\n",
    "    'SCONJ',\n",
    "    'SYM',\n",
    "    'VERB',\n",
    "    'X',\n",
    "    'all_to_num',\n",
    "    'exist_question',\n",
    "    'negative_numbers',\n",
    "    'more_hundred',\n",
    "    'exist_noun_in',\n",
    "    'question_in_end',\n",
    "    'question_not_end',\n",
    "    'group_calculate',\n",
    "    'in_bad_list',\n",
    "    'one_digit',\n",
    "]\n",
    "n['feature_names'] = token_name_list"
   ]
  },
  {
   "cell_type": "code",
   "execution_count": 9,
   "metadata": {},
   "outputs": [],
   "source": [
    "def plot_feature_importances(model):\n",
    "    n_features = data.shape[1]\n",
    "    plt.barh(range(n_features), model.feature_importances_, align='center')\n",
    "    plt.yticks(np.arange(n_features), n['feature_names'])\n",
    "    plt.xlabel(\"Feature importance\")\n",
    "    plt.ylabel(\"Feature\")"
   ]
  },
  {
   "cell_type": "code",
   "execution_count": 10,
   "metadata": {},
   "outputs": [],
   "source": [
    "from sklearn.ensemble import GradientBoostingClassifier\n",
    "from sklearn.model_selection import train_test_split\n",
    "import matplotlib.pyplot as plt"
   ]
  },
  {
   "cell_type": "markdown",
   "metadata": {},
   "source": [
    "## Calculate of default model"
   ]
  },
  {
   "cell_type": "code",
   "execution_count": 11,
   "metadata": {
    "scrolled": false
   },
   "outputs": [
    {
     "name": "stdout",
     "output_type": "stream",
     "text": [
      "Correctness on the training set: 0.711\n",
      "Correctness on a test set: 0.676\n"
     ]
    }
   ],
   "source": [
    "X_train, X_test, y_train, y_test = train_test_split(data, target, random_state=0)\n",
    "gbrt = GradientBoostingClassifier(random_state=0)\n",
    "gbrt.fit(X_train, y_train)\n",
    "print(\"Correctness on the training set: {:.3f}\".format(gbrt.score(X_train, y_train)))\n",
    "print(\"Correctness on a test set: {:.3f}\".format(gbrt.score(X_test, y_test)))"
   ]
  },
  {
   "cell_type": "markdown",
   "metadata": {},
   "source": [
    "#### Визуализация важности признаков"
   ]
  },
  {
   "cell_type": "code",
   "execution_count": 12,
   "metadata": {},
   "outputs": [
    {
     "data": {
      "image/png": "[encoded data removed]",
      "text/plain": [
       "<Figure size 432x288 with 1 Axes>"
      ]
     },
     "metadata": {
      "needs_background": "light"
     },
     "output_type": "display_data"
    }
   ],
   "source": [
    "gbrt = GradientBoostingClassifier(random_state=0)\n",
    "gbrt.fit(X_train, y_train)\n",
    "plot_feature_importances(gbrt)"
   ]
  },
  {
   "cell_type": "markdown",
   "metadata": {},
   "source": [
    "### Confusion matrix"
   ]
  },
  {
   "cell_type": "code",
   "execution_count": 13,
   "metadata": {},
   "outputs": [
    {
     "name": "stdout",
     "output_type": "stream",
     "text": [
      "Confusion matrix:\n",
      "[[ 319  267   48]\n",
      " [ 116 1304  106]\n",
      " [  81  248  184]]\n"
     ]
    }
   ],
   "source": [
    "from sklearn.metrics import confusion_matrix\n",
    "prediction = gbrt.predict(X_test)\n",
    "confusion = confusion_matrix(y_test, prediction)\n",
    "print(\"Confusion matrix:\\n{}\".format(confusion))"
   ]
  },
  {
   "cell_type": "code",
   "execution_count": 14,
   "metadata": {},
   "outputs": [
    {
     "name": "stdout",
     "output_type": "stream",
     "text": [
      "Confusion matrix\n",
      "[[0.50315457 0.42113565 0.07570978]\n",
      " [0.07601573 0.85452163 0.06946265]\n",
      " [0.15789474 0.4834308  0.35867446]]\n"
     ]
    },
    {
     "data": {
      "image/png": "[encoded data removed]",
      "text/plain": [
       "<Figure size 432x288 with 2 Axes>"
      ]
     },
     "metadata": {
      "needs_background": "light"
     },
     "output_type": "display_data"
    }
   ],
   "source": [
    "from sklearn.metrics import plot_confusion_matrix\n",
    "class_names = ('bad', 'good', 'agood')\n",
    "title = \"Confusion matrix\"\n",
    "disp = plot_confusion_matrix(gbrt, X_test, y_test,\n",
    "                                 display_labels=class_names,\n",
    "                                 cmap=plt.cm.Blues,\n",
    "                                 normalize='true'\n",
    "                            )\n",
    "disp.ax_.set_title(title)\n",
    "print(title)\n",
    "print(disp.confusion_matrix)"
   ]
  },
  {
   "cell_type": "markdown",
   "metadata": {},
   "source": [
    "## Обучение с вариацией по двум параметрам: max_features, max_depth"
   ]
  },
  {
   "cell_type": "code",
   "execution_count": 15,
   "metadata": {
    "scrolled": true
   },
   "outputs": [
    {
     "name": "stdout",
     "output_type": "stream",
     "text": [
      "max_features=1 Correctness on the training set: 0.610\n",
      "max_depth=1 Correctness on a test set: 0.607\n",
      "\n",
      "max_features=2 Correctness on the training set: 0.626\n",
      "max_depth=1 Correctness on a test set: 0.621\n",
      "\n",
      "max_features=3 Correctness on the training set: 0.633\n",
      "max_depth=1 Correctness on a test set: 0.629\n",
      "\n",
      "max_features=4 Correctness on the training set: 0.640\n",
      "max_depth=1 Correctness on a test set: 0.632\n",
      "\n",
      "max_features=5 Correctness on the training set: 0.644\n",
      "max_depth=1 Correctness on a test set: 0.634\n",
      "\n",
      "max_features=7 Correctness on the training set: 0.646\n",
      "max_depth=1 Correctness on a test set: 0.639\n",
      "\n"
     ]
    },
    {
     "ename": "KeyboardInterrupt",
     "evalue": "",
     "output_type": "error",
     "traceback": [
      "\u001b[0;31m---------------------------------------------------------------------------\u001b[0m",
      "\u001b[0;31mKeyboardInterrupt\u001b[0m                         Traceback (most recent call last)",
      "\u001b[0;32m/var/folders/bz/nrb_q3m57b7bb8w8vft4vh240000gn/T/ipykernel_1443/1212147602.py\u001b[0m in \u001b[0;36m<module>\u001b[0;34m\u001b[0m\n\u001b[1;32m      5\u001b[0m     \u001b[0;32mfor\u001b[0m \u001b[0mj\u001b[0m \u001b[0;32min\u001b[0m \u001b[0mrange\u001b[0m\u001b[0;34m(\u001b[0m\u001b[0;36m1\u001b[0m\u001b[0;34m,\u001b[0m\u001b[0;36m26\u001b[0m\u001b[0;34m)\u001b[0m\u001b[0;34m:\u001b[0m\u001b[0;34m\u001b[0m\u001b[0;34m\u001b[0m\u001b[0m\n\u001b[1;32m      6\u001b[0m         \u001b[0mgbrt\u001b[0m \u001b[0;34m=\u001b[0m \u001b[0mGradientBoostingClassifier\u001b[0m\u001b[0;34m(\u001b[0m\u001b[0mmax_depth\u001b[0m\u001b[0;34m=\u001b[0m\u001b[0mi\u001b[0m\u001b[0;34m,\u001b[0m \u001b[0mmax_features\u001b[0m\u001b[0;34m=\u001b[0m\u001b[0mj\u001b[0m\u001b[0;34m,\u001b[0m \u001b[0mrandom_state\u001b[0m\u001b[0;34m=\u001b[0m\u001b[0;36m0\u001b[0m\u001b[0;34m)\u001b[0m\u001b[0;34m\u001b[0m\u001b[0;34m\u001b[0m\u001b[0m\n\u001b[0;32m----> 7\u001b[0;31m         \u001b[0mgbrt\u001b[0m\u001b[0;34m.\u001b[0m\u001b[0mfit\u001b[0m\u001b[0;34m(\u001b[0m\u001b[0mX_train\u001b[0m\u001b[0;34m,\u001b[0m \u001b[0my_train\u001b[0m\u001b[0;34m)\u001b[0m\u001b[0;34m\u001b[0m\u001b[0;34m\u001b[0m\u001b[0m\n\u001b[0m\u001b[1;32m      8\u001b[0m         \u001b[0;32mif\u001b[0m \u001b[0mmax_score\u001b[0m \u001b[0;34m<\u001b[0m \u001b[0mgbrt\u001b[0m\u001b[0;34m.\u001b[0m\u001b[0mscore\u001b[0m\u001b[0;34m(\u001b[0m\u001b[0mX_test\u001b[0m\u001b[0;34m,\u001b[0m \u001b[0my_test\u001b[0m\u001b[0;34m)\u001b[0m\u001b[0;34m:\u001b[0m\u001b[0;34m\u001b[0m\u001b[0;34m\u001b[0m\u001b[0m\n\u001b[1;32m      9\u001b[0m             \u001b[0mprint\u001b[0m\u001b[0;34m(\u001b[0m\u001b[0;34mf\"max_features={j}\"\u001b[0m\u001b[0;34m,\u001b[0m \u001b[0;34m\"Correctness on the training set: {:.3f}\"\u001b[0m\u001b[0;34m.\u001b[0m\u001b[0mformat\u001b[0m\u001b[0;34m(\u001b[0m\u001b[0mgbrt\u001b[0m\u001b[0;34m.\u001b[0m\u001b[0mscore\u001b[0m\u001b[0;34m(\u001b[0m\u001b[0mX_train\u001b[0m\u001b[0;34m,\u001b[0m \u001b[0my_train\u001b[0m\u001b[0;34m)\u001b[0m\u001b[0;34m)\u001b[0m\u001b[0;34m)\u001b[0m\u001b[0;34m\u001b[0m\u001b[0;34m\u001b[0m\u001b[0m\n",
      "\u001b[0;32m~/AI-training-task-classification-test/venv/lib/python3.9/site-packages/sklearn/ensemble/_gb.py\u001b[0m in \u001b[0;36mfit\u001b[0;34m(self, X, y, sample_weight, monitor)\u001b[0m\n\u001b[1;32m    502\u001b[0m \u001b[0;34m\u001b[0m\u001b[0m\n\u001b[1;32m    503\u001b[0m         \u001b[0;31m# fit the boosting stages\u001b[0m\u001b[0;34m\u001b[0m\u001b[0;34m\u001b[0m\u001b[0;34m\u001b[0m\u001b[0m\n\u001b[0;32m--> 504\u001b[0;31m         n_stages = self._fit_stages(\n\u001b[0m\u001b[1;32m    505\u001b[0m             \u001b[0mX\u001b[0m\u001b[0;34m,\u001b[0m \u001b[0my\u001b[0m\u001b[0;34m,\u001b[0m \u001b[0mraw_predictions\u001b[0m\u001b[0;34m,\u001b[0m \u001b[0msample_weight\u001b[0m\u001b[0;34m,\u001b[0m \u001b[0mself\u001b[0m\u001b[0;34m.\u001b[0m\u001b[0m_rng\u001b[0m\u001b[0;34m,\u001b[0m \u001b[0mX_val\u001b[0m\u001b[0;34m,\u001b[0m \u001b[0my_val\u001b[0m\u001b[0;34m,\u001b[0m\u001b[0;34m\u001b[0m\u001b[0;34m\u001b[0m\u001b[0m\n\u001b[1;32m    506\u001b[0m             sample_weight_val, begin_at_stage, monitor)\n",
      "\u001b[0;32m~/AI-training-task-classification-test/venv/lib/python3.9/site-packages/sklearn/ensemble/_gb.py\u001b[0m in \u001b[0;36m_fit_stages\u001b[0;34m(self, X, y, raw_predictions, sample_weight, random_state, X_val, y_val, sample_weight_val, begin_at_stage, monitor)\u001b[0m\n\u001b[1;32m    559\u001b[0m \u001b[0;34m\u001b[0m\u001b[0m\n\u001b[1;32m    560\u001b[0m             \u001b[0;31m# fit next stage of trees\u001b[0m\u001b[0;34m\u001b[0m\u001b[0;34m\u001b[0m\u001b[0;34m\u001b[0m\u001b[0m\n\u001b[0;32m--> 561\u001b[0;31m             raw_predictions = self._fit_stage(\n\u001b[0m\u001b[1;32m    562\u001b[0m                 \u001b[0mi\u001b[0m\u001b[0;34m,\u001b[0m \u001b[0mX\u001b[0m\u001b[0;34m,\u001b[0m \u001b[0my\u001b[0m\u001b[0;34m,\u001b[0m \u001b[0mraw_predictions\u001b[0m\u001b[0;34m,\u001b[0m \u001b[0msample_weight\u001b[0m\u001b[0;34m,\u001b[0m \u001b[0msample_mask\u001b[0m\u001b[0;34m,\u001b[0m\u001b[0;34m\u001b[0m\u001b[0;34m\u001b[0m\u001b[0m\n\u001b[1;32m    563\u001b[0m                 random_state, X_csc, X_csr)\n",
      "\u001b[0;32m~/AI-training-task-classification-test/venv/lib/python3.9/site-packages/sklearn/ensemble/_gb.py\u001b[0m in \u001b[0;36m_fit_stage\u001b[0;34m(self, i, X, y, raw_predictions, sample_weight, sample_mask, random_state, X_csc, X_csr)\u001b[0m\n\u001b[1;32m    189\u001b[0m                 \u001b[0my\u001b[0m \u001b[0;34m=\u001b[0m \u001b[0mnp\u001b[0m\u001b[0;34m.\u001b[0m\u001b[0marray\u001b[0m\u001b[0;34m(\u001b[0m\u001b[0moriginal_y\u001b[0m \u001b[0;34m==\u001b[0m \u001b[0mk\u001b[0m\u001b[0;34m,\u001b[0m \u001b[0mdtype\u001b[0m\u001b[0;34m=\u001b[0m\u001b[0mnp\u001b[0m\u001b[0;34m.\u001b[0m\u001b[0mfloat64\u001b[0m\u001b[0;34m)\u001b[0m\u001b[0;34m\u001b[0m\u001b[0;34m\u001b[0m\u001b[0m\n\u001b[1;32m    190\u001b[0m \u001b[0;34m\u001b[0m\u001b[0m\n\u001b[0;32m--> 191\u001b[0;31m             residual = loss.negative_gradient(y, raw_predictions_copy, k=k,\n\u001b[0m\u001b[1;32m    192\u001b[0m                                               sample_weight=sample_weight)\n\u001b[1;32m    193\u001b[0m \u001b[0;34m\u001b[0m\u001b[0m\n",
      "\u001b[0;32m~/AI-training-task-classification-test/venv/lib/python3.9/site-packages/sklearn/ensemble/_gb_losses.py\u001b[0m in \u001b[0;36mnegative_gradient\u001b[0;34m(self, y, raw_predictions, k, **kwargs)\u001b[0m\n\u001b[1;32m    717\u001b[0m             \u001b[0mThe\u001b[0m \u001b[0mindex\u001b[0m \u001b[0mof\u001b[0m \u001b[0mthe\u001b[0m \u001b[0;32mclass\u001b[0m\u001b[0;34m.\u001b[0m\u001b[0;34m\u001b[0m\u001b[0;34m\u001b[0m\u001b[0m\n\u001b[1;32m    718\u001b[0m         \"\"\"\n\u001b[0;32m--> 719\u001b[0;31m         return y - np.nan_to_num(np.exp(raw_predictions[:, k] -\n\u001b[0m\u001b[1;32m    720\u001b[0m                                         logsumexp(raw_predictions, axis=1)))\n\u001b[1;32m    721\u001b[0m \u001b[0;34m\u001b[0m\u001b[0m\n",
      "\u001b[0;31mKeyboardInterrupt\u001b[0m: "
     ]
    }
   ],
   "source": [
    "X_train, X_test, y_train, y_test = train_test_split(\n",
    "data, target, stratify=target, random_state=42)\n",
    "max_score = 0\n",
    "for i in range(1,30):\n",
    "    for j in range(1,26):\n",
    "        gbrt = GradientBoostingClassifier(max_depth=i, max_features=j, random_state=0)\n",
    "        gbrt.fit(X_train, y_train)\n",
    "        if max_score < gbrt.score(X_test, y_test):\n",
    "            print(f\"max_features={j}\", \"Correctness on the training set: {:.3f}\".format(gbrt.score(X_train, y_train)))\n",
    "            print(f\"max_depth={i}\", \"Correctness on a test set: {:.3f}\".format(gbrt.score(X_test, y_test)))\n",
    "            print()\n",
    "            max_score = gbrt.score(X_test, y_test)"
   ]
  },
  {
   "cell_type": "markdown",
   "metadata": {},
   "source": [
    "### max_features=6, max_depth=15"
   ]
  },
  {
   "cell_type": "code",
   "execution_count": 16,
   "metadata": {
    "scrolled": false
   },
   "outputs": [
    {
     "name": "stdout",
     "output_type": "stream",
     "text": [
      "Correctness on the training set: 0.993\n",
      "Correctness on a test set: 0.719\n"
     ]
    },
    {
     "data": {
      "image/png": "[encoded data removed]",
      "text/plain": [
       "<Figure size 432x288 with 1 Axes>"
      ]
     },
     "metadata": {
      "needs_background": "light"
     },
     "output_type": "display_data"
    }
   ],
   "source": [
    "X_train, X_test, y_train, y_test = train_test_split(\n",
    "data, target, stratify=target, random_state=42)\n",
    "gbrt = GradientBoostingClassifier(max_features=6, max_depth=15, random_state=0)\n",
    "gbrt.fit(X_train, y_train)\n",
    "print(\"Correctness on the training set: {:.3f}\".format(gbrt.score(X_train, y_train)))\n",
    "print(\"Correctness on a test set: {:.3f}\".format(gbrt.score(X_test, y_test)))\n",
    "plot_feature_importances(gbrt)"
   ]
  },
  {
   "cell_type": "markdown",
   "metadata": {},
   "source": [
    "### Confusion matrix"
   ]
  },
  {
   "cell_type": "code",
   "execution_count": 17,
   "metadata": {
    "scrolled": false
   },
   "outputs": [
    {
     "name": "stdout",
     "output_type": "stream",
     "text": [
      "Confusion matrix:\n",
      "[[295 140  15]\n",
      " [ 70 613   6]\n",
      " [ 56  65  24]]\n"
     ]
    }
   ],
   "source": [
    "from sklearn.metrics import confusion_matrix\n",
    "prediction = gbrt.predict(X_test)\n",
    "confusion = confusion_matrix(y_test, prediction)\n",
    "print(\"Confusion matrix:\\n{}\".format(confusion))"
   ]
  },
  {
   "cell_type": "code",
   "execution_count": 18,
   "metadata": {
    "scrolled": true
   },
   "outputs": [
    {
     "name": "stdout",
     "output_type": "stream",
     "text": [
      "Confusion matrix\n",
      "[[0.65555556 0.31111111 0.03333333]\n",
      " [0.10159652 0.88969521 0.00870827]\n",
      " [0.3862069  0.44827586 0.16551724]]\n"
     ]
    },
    {
     "data": {
      "image/png": "[encoded data removed]",
      "text/plain": [
       "<Figure size 432x288 with 2 Axes>"
      ]
     },
     "metadata": {
      "needs_background": "light"
     },
     "output_type": "display_data"
    }
   ],
   "source": [
    "from sklearn.metrics import plot_confusion_matrix\n",
    "class_names = ('bad', 'good', 'agood')\n",
    "title = \"Confusion matrix\"\n",
    "disp = plot_confusion_matrix(gbrt, X_test, y_test,\n",
    "                                 display_labels=class_names,\n",
    "                                 cmap=plt.cm.Blues,\n",
    "                                 normalize='true'\n",
    "                            )\n",
    "disp.ax_.set_title(title)\n",
    "print(title)\n",
    "print(disp.confusion_matrix)"
   ]
  },
  {
   "cell_type": "markdown",
   "metadata": {},
   "source": [
    "## Обучение с вариацией по трем параметрам: max_depth, max_features, n_estimators"
   ]
  },
  {
   "cell_type": "code",
   "execution_count": null,
   "metadata": {
    "scrolled": true
   },
   "outputs": [
    {
     "name": "stdout",
     "output_type": "stream",
     "text": [
      "5, 1, 1\n",
      "Correctness on the training set: 0.536\n",
      "Correctness on a test set: 0.537\n",
      "\n",
      "5, 1, 2\n",
      "Correctness on the training set: 0.540\n",
      "Correctness on a test set: 0.538\n",
      "\n",
      "5, 1, 3\n",
      "Correctness on the training set: 0.552\n",
      "Correctness on a test set: 0.557\n",
      "\n",
      "5, 1, 4\n",
      "Correctness on the training set: 0.578\n",
      "Correctness on a test set: 0.581\n",
      "\n",
      "5, 1, 5\n",
      "Correctness on the training set: 0.608\n",
      "Correctness on a test set: 0.606\n",
      "\n",
      "5, 1, 6\n",
      "Correctness on the training set: 0.634\n",
      "Correctness on a test set: 0.629\n",
      "\n",
      "5, 1, 7\n",
      "Correctness on the training set: 0.643\n",
      "Correctness on a test set: 0.641\n",
      "\n",
      "5, 1, 8\n",
      "Correctness on the training set: 0.653\n",
      "Correctness on a test set: 0.650\n",
      "\n",
      "5, 1, 9\n",
      "Correctness on the training set: 0.663\n",
      "Correctness on a test set: 0.655\n",
      "\n",
      "5, 1, 10\n",
      "Correctness on the training set: 0.673\n",
      "Correctness on a test set: 0.660\n",
      "\n",
      "5, 1, 11\n",
      "Correctness on the training set: 0.672\n",
      "Correctness on a test set: 0.668\n",
      "\n",
      "5, 1, 13\n",
      "Correctness on the training set: 0.684\n",
      "Correctness on a test set: 0.673\n",
      "\n",
      "5, 1, 17\n",
      "Correctness on the training set: 0.692\n",
      "Correctness on a test set: 0.674\n",
      "\n",
      "5, 1, 18\n",
      "Correctness on the training set: 0.694\n",
      "Correctness on a test set: 0.677\n",
      "\n",
      "5, 1, 19\n",
      "Correctness on the training set: 0.695\n",
      "Correctness on a test set: 0.678\n",
      "\n",
      "5, 1, 21\n",
      "Correctness on the training set: 0.699\n",
      "Correctness on a test set: 0.678\n",
      "\n",
      "5, 1, 22\n",
      "Correctness on the training set: 0.702\n",
      "Correctness on a test set: 0.680\n",
      "\n",
      "5, 1, 26\n",
      "Correctness on the training set: 0.708\n",
      "Correctness on a test set: 0.681\n",
      "\n",
      "5, 1, 28\n",
      "Correctness on the training set: 0.709\n",
      "Correctness on a test set: 0.683\n",
      "\n",
      "5, 1, 29\n",
      "Correctness on the training set: 0.711\n",
      "Correctness on a test set: 0.684\n",
      "\n",
      "5, 1, 30\n",
      "Correctness on the training set: 0.712\n",
      "Correctness on a test set: 0.685\n",
      "\n",
      "5, 1, 50\n",
      "Correctness on the training set: 0.740\n",
      "Correctness on a test set: 0.687\n",
      "\n",
      "5, 1, 53\n",
      "Correctness on the training set: 0.744\n",
      "Correctness on a test set: 0.690\n",
      "\n",
      "5, 1, 56\n",
      "Correctness on the training set: 0.744\n",
      "Correctness on a test set: 0.692\n",
      "\n",
      "5, 1, 62\n",
      "Correctness on the training set: 0.748\n",
      "Correctness on a test set: 0.693\n",
      "\n",
      "5, 1, 65\n",
      "Correctness on the training set: 0.750\n",
      "Correctness on a test set: 0.694\n",
      "\n",
      "5, 1, 68\n",
      "Correctness on the training set: 0.753\n",
      "Correctness on a test set: 0.695\n",
      "\n",
      "5, 1, 70\n",
      "Correctness on the training set: 0.754\n",
      "Correctness on a test set: 0.695\n",
      "\n",
      "5, 1, 71\n",
      "Correctness on the training set: 0.754\n",
      "Correctness on a test set: 0.698\n",
      "\n",
      "5, 1, 79\n",
      "Correctness on the training set: 0.760\n",
      "Correctness on a test set: 0.699\n",
      "\n",
      "5, 1, 82\n",
      "Correctness on the training set: 0.762\n",
      "Correctness on a test set: 0.702\n",
      "\n",
      "5, 1, 83\n",
      "Correctness on the training set: 0.763\n",
      "Correctness on a test set: 0.702\n",
      "\n",
      "5, 1, 84\n",
      "Correctness on the training set: 0.763\n",
      "Correctness on a test set: 0.703\n",
      "\n",
      "5, 1, 95\n",
      "Correctness on the training set: 0.771\n",
      "Correctness on a test set: 0.704\n",
      "\n",
      "5, 4, 31\n",
      "Correctness on the training set: 0.753\n",
      "Correctness on a test set: 0.705\n",
      "\n",
      "5, 4, 39\n",
      "Correctness on the training set: 0.766\n",
      "Correctness on a test set: 0.706\n",
      "\n",
      "5, 4, 40\n",
      "Correctness on the training set: 0.767\n",
      "Correctness on a test set: 0.706\n",
      "\n",
      "5, 4, 44\n",
      "Correctness on the training set: 0.772\n",
      "Correctness on a test set: 0.709\n",
      "\n",
      "5, 7, 68\n",
      "Correctness on the training set: 0.802\n",
      "Correctness on a test set: 0.710\n",
      "\n",
      "5, 7, 74\n",
      "Correctness on the training set: 0.807\n",
      "Correctness on a test set: 0.710\n",
      "\n",
      "5, 7, 76\n",
      "Correctness on the training set: 0.809\n",
      "Correctness on a test set: 0.711\n",
      "\n",
      "5, 7, 81\n",
      "Correctness on the training set: 0.813\n",
      "Correctness on a test set: 0.713\n",
      "\n",
      "6, 5, 77\n",
      "Correctness on the training set: 0.853\n",
      "Correctness on a test set: 0.716\n",
      "\n",
      "6, 12, 72\n",
      "Correctness on the training set: 0.869\n",
      "Correctness on a test set: 0.717\n",
      "\n",
      "6, 13, 43\n",
      "Correctness on the training set: 0.835\n",
      "Correctness on a test set: 0.717\n",
      "\n",
      "6, 15, 55\n",
      "Correctness on the training set: 0.848\n",
      "Correctness on a test set: 0.718\n",
      "\n",
      "6, 15, 73\n",
      "Correctness on the training set: 0.872\n",
      "Correctness on a test set: 0.719\n",
      "\n",
      "7, 24, 59\n",
      "Correctness on the training set: 0.918\n",
      "Correctness on a test set: 0.720\n",
      "\n",
      "8, 3, 99\n",
      "Correctness on the training set: 0.950\n",
      "Correctness on a test set: 0.720\n",
      "\n",
      "8, 7, 35\n",
      "Correctness on the training set: 0.900\n",
      "Correctness on a test set: 0.721\n",
      "\n",
      "8, 16, 39\n",
      "Correctness on the training set: 0.923\n",
      "Correctness on a test set: 0.722\n",
      "\n",
      "8, 16, 43\n",
      "Correctness on the training set: 0.933\n",
      "Correctness on a test set: 0.723\n",
      "\n",
      "11, 9, 76\n",
      "Correctness on the training set: 0.993\n",
      "Correctness on a test set: 0.724\n",
      "\n"
     ]
    }
   ],
   "source": [
    "X_train, X_test, y_train, y_test = train_test_split(\n",
    "data, target, stratify=target, random_state=42)\n",
    "max_score = 0\n",
    "for i in range(5,30):\n",
    "    for j in range(1,26):\n",
    "        for k in range(1, 100):\n",
    "            gbrt = GradientBoostingClassifier(max_depth=i, max_features=j, n_estimators=k, random_state=0)\n",
    "            gbrt.fit(X_train, y_train)\n",
    "            if max_score < gbrt.score(X_test, y_test):\n",
    "                print(f\"{i}, {j}, {k}\")\n",
    "                print(\"Correctness on the training set: {:.3f}\".format(gbrt.score(X_train, y_train)))\n",
    "                print(\"Correctness on a test set: {:.3f}\".format(gbrt.score(X_test, y_test)))\n",
    "                print()\n",
    "                max_score = gbrt.score(X_test, y_test)"
   ]
  },
  {
   "cell_type": "markdown",
   "metadata": {},
   "source": [
    "### max_depth=5, max_features=25, n_estimators=61"
   ]
  },
  {
   "cell_type": "code",
   "execution_count": 17,
   "metadata": {
    "scrolled": false
   },
   "outputs": [
    {
     "name": "stdout",
     "output_type": "stream",
     "text": [
      "Correctness on the training set: 0.809\n",
      "Correctness on a test set: 0.697\n"
     ]
    },
    {
     "data": {
      "image/png": "[encoded data removed]",
      "text/plain": [
       "<Figure size 432x288 with 1 Axes>"
      ]
     },
     "metadata": {
      "needs_background": "light"
     },
     "output_type": "display_data"
    }
   ],
   "source": [
    "X_train, X_test, y_train, y_test = train_test_split(\n",
    "data, target, stratify=target, random_state=42)\n",
    "gbrt = GradientBoostingClassifier(max_depth=5, max_features=25, n_estimators=61, random_state=0)\n",
    "gbrt.fit(X_train, y_train)\n",
    "print(\"Correctness on the training set: {:.3f}\".format(gbrt.score(X_train, y_train)))\n",
    "print(\"Correctness on a test set: {:.3f}\".format(gbrt.score(X_test, y_test)))\n",
    "plot_feature_importances(gbrt)"
   ]
  },
  {
   "cell_type": "markdown",
   "metadata": {},
   "source": [
    "### Confusion matrix"
   ]
  },
  {
   "cell_type": "code",
   "execution_count": 12,
   "metadata": {
    "scrolled": false
   },
   "outputs": [
    {
     "name": "stdout",
     "output_type": "stream",
     "text": [
      "Confusion matrix:\n",
      "[[319 127   4]\n",
      " [ 91 591   7]\n",
      " [ 72  55  18]]\n"
     ]
    }
   ],
   "source": [
    "from sklearn.metrics import confusion_matrix\n",
    "prediction = gbrt.predict(X_test)\n",
    "confusion = confusion_matrix(y_test, prediction)\n",
    "print(\"Confusion matrix:\\n{}\".format(confusion))"
   ]
  },
  {
   "cell_type": "code",
   "execution_count": 14,
   "metadata": {},
   "outputs": [
    {
     "name": "stdout",
     "output_type": "stream",
     "text": [
      "Confusion matrix\n",
      "[[0.69020501 0.30523918 0.00455581]\n",
      " [0.13722628 0.86131387 0.00145985]\n",
      " [0.6375     0.3375     0.025     ]]\n"
     ]
    },
    {
     "data": {
      "image/png": "[encoded data removed]",
      "text/plain": [
       "<Figure size 432x288 with 2 Axes>"
      ]
     },
     "metadata": {
      "needs_background": "light"
     },
     "output_type": "display_data"
    }
   ],
   "source": [
    "from sklearn.metrics import plot_confusion_matrix\n",
    "class_names = ('bad', 'good', 'agood')\n",
    "title = \"Confusion matrix\"\n",
    "disp = plot_confusion_matrix(gbrt, X_test, y_test,\n",
    "                                 display_labels=class_names,\n",
    "                                 cmap=plt.cm.Blues,\n",
    "                                 normalize='true'\n",
    "                            )\n",
    "disp.ax_.set_title(title)\n",
    "print(title)\n",
    "print(disp.confusion_matrix)"
   ]
  },
  {
   "cell_type": "markdown",
   "metadata": {},
   "source": [
    "## Сохранение и загрузка обученных моделей"
   ]
  },
  {
   "cell_type": "markdown",
   "metadata": {},
   "source": [
    "# Save model"
   ]
  },
  {
   "cell_type": "code",
   "execution_count": 18,
   "metadata": {},
   "outputs": [],
   "source": [
    "import pickle\n",
    "# save the model to disk\n",
    "filename = ROOT_DIR + '/Data/Models/gbrt_validation_model.sav'\n",
    "pickle.dump(gbrt, open(filename, 'wb'))"
   ]
  },
  {
   "cell_type": "markdown",
   "metadata": {},
   "source": [
    "После обработки данные сохраняются в директории **Data/Models/gbrt_validation_model.sav** в файл."
   ]
  },
  {
   "cell_type": "markdown",
   "metadata": {},
   "source": [
    "# Load model"
   ]
  },
  {
   "cell_type": "code",
   "execution_count": 19,
   "metadata": {
    "scrolled": true
   },
   "outputs": [
    {
     "name": "stdout",
     "output_type": "stream",
     "text": [
      "0.6970404984423676\n"
     ]
    }
   ],
   "source": [
    "# load the model from disk\n",
    "filemane = ROOT_DIR + '/Data/Models/gbrt_validation_model.sav'\n",
    "loaded_model = pickle.load(open(filename, 'rb'))\n",
    "result = loaded_model.score(X_test, y_test)\n",
    "print(result)"
   ]
  },
  {
   "cell_type": "code",
   "execution_count": null,
   "metadata": {},
   "outputs": [],
   "source": []
  }
 ],
 "metadata": {
  "kernelspec": {
   "display_name": "Python 3 (ipykernel)",
   "language": "python",
   "name": "python3"
  },
  "language_info": {
   "codemirror_mode": {
    "name": "ipython",
    "version": 3
   },
   "file_extension": ".py",
   "mimetype": "text/x-python",
   "name": "python",
   "nbconvert_exporter": "python",
   "pygments_lexer": "ipython3",
   "version": "3.9.5"
  }
 },
 "nbformat": 4,
 "nbformat_minor": 1
}
